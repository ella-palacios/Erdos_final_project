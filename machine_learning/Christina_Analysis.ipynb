{
 "cells": [
  {
   "cell_type": "code",
   "execution_count": 1,
   "metadata": {},
   "outputs": [
    {
     "name": "stderr",
     "output_type": "stream",
     "text": [
      "c:\\Users\\duffi\\OneDrive\\Documents\\2024JobHuntBootCamps\\Trees Project\\Erdos_Trees\\machine_learning\\data_loader.py:5: DtypeWarning: Columns (86,168,207,211,215) have mixed types. Specify dtype option on import or set low_memory=False.\n",
      "  def data_load_and_split(big_data=pd.read_csv('../Data/final_big_data.csv'),\n",
      "c:\\Users\\duffi\\OneDrive\\Documents\\2024JobHuntBootCamps\\Trees Project\\Erdos_Trees\\machine_learning\\data_loader.py:6: DtypeWarning: Columns (55,59,63) have mixed types. Specify dtype option on import or set low_memory=False.\n",
      "  trimmed_data= pd.read_csv('../Data/trimmed_data.csv'),\n"
     ]
    }
   ],
   "source": [
    "import pandas as pd\n",
    "from data_loader import data_load_and_split, data_merge\n",
    "\n",
    "big_firstMeas_train, big_secondMeas_train, big_firstMeas_test, big_secondMeas_test, train1, train2, test1, test2 = data_load_and_split()"
   ]
  },
  {
   "cell_type": "code",
   "execution_count": 2,
   "metadata": {},
   "outputs": [
    {
     "name": "stdout",
     "output_type": "stream",
     "text": [
      "<class 'pandas.core.frame.DataFrame'>\n",
      "Index: 9725 entries, 5504 to 7408\n",
      "Data columns (total 67 columns):\n",
      " #   Column                   Non-Null Count  Dtype  \n",
      "---  ------                   --------------  -----  \n",
      " 0   Unnamed: 0               9725 non-null   int64  \n",
      " 1   PLOT                     9725 non-null   int64  \n",
      " 2   LAT                      9725 non-null   float64\n",
      " 3   LON                      9725 non-null   float64\n",
      " 4   ELEV                     9725 non-null   float64\n",
      " 5   COUNTYCD                 9725 non-null   int64  \n",
      " 6   UNITCD                   9725 non-null   int64  \n",
      " 7   PLT_CN                   9725 non-null   int64  \n",
      " 8   CN                       9725 non-null   int64  \n",
      " 9   PREV_TRE_CN              0 non-null      float64\n",
      " 10  UNIQUE_PLOT_ID           9725 non-null   object \n",
      " 11  INVYR                    9725 non-null   int64  \n",
      " 12  MEASYEAR                 9725 non-null   int64  \n",
      " 13  MEASMON                  9725 non-null   int64  \n",
      " 14  MEASDAY                  9725 non-null   int64  \n",
      " 15  CREATED_DATE             9725 non-null   object \n",
      " 16  MODIFIED_DATE            9725 non-null   object \n",
      " 17  TREE                     9725 non-null   int64  \n",
      " 18  SUBP                     9725 non-null   int64  \n",
      " 19  CONDID                   9725 non-null   int64  \n",
      " 20  PREVCOND                 75 non-null     float64\n",
      " 21  STATUSCD                 9725 non-null   int64  \n",
      " 22  SPCD                     9725 non-null   float64\n",
      " 23  SPGRPCD                  9725 non-null   int64  \n",
      " 24  CULL                     7670 non-null   float64\n",
      " 25  DIA                      9725 non-null   float64\n",
      " 26  HT                       9725 non-null   float64\n",
      " 27  DRYBIO_AG                9723 non-null   float64\n",
      " 28  CR                       7936 non-null   float64\n",
      " 29  CCLCD                    7936 non-null   float64\n",
      " 30  DAMLOC1                  3399 non-null   float64\n",
      " 31  DAMTYP1                  37 non-null     float64\n",
      " 32  DAMSEV1                  37 non-null     float64\n",
      " 33  DAMLOC2                  796 non-null    float64\n",
      " 34  DAMTYP2                  3 non-null      float64\n",
      " 35  DAMSEV2                  3 non-null      float64\n",
      " 36  DECAYCD                  1789 non-null   float64\n",
      " 37  MORTYR                   3 non-null      float64\n",
      " 38  STANDING_DEAD_CD         1789 non-null   float64\n",
      " 39  DAMLOC1_PNWRS            6012 non-null   float64\n",
      " 40  DAMLOC2_PNWRS            3152 non-null   float64\n",
      " 41  DMG_AGENT1_CD_PNWRS      5071 non-null   float64\n",
      " 42  DMG_AGENT2_CD_PNWRS      3066 non-null   float64\n",
      " 43  DMG_AGENT3_CD_PNWRS      1917 non-null   float64\n",
      " 44  SEVERITY1_CD_PNWRS       534 non-null    float64\n",
      " 45  SEVERITY1A_CD_PNWRS      3152 non-null   float64\n",
      " 46  SEVERITY1B_CD_PNWRS      34 non-null     float64\n",
      " 47  SEVERITY2_CD_PNWRS       117 non-null    float64\n",
      " 48  SEVERITY2A_CD_PNWRS      1149 non-null   float64\n",
      " 49  SEVERITY2B_CD_PNWRS      15 non-null     float64\n",
      " 50  SEVERITY3_CD_PNWRS       19 non-null     float64\n",
      " 51  DAMAGE_AGENT_CD1         0 non-null      float64\n",
      " 52  DAMAGE_AGENT_CD2         0 non-null      float64\n",
      " 53  DAMAGE_AGENT_CD3         0 non-null      float64\n",
      " 54  CULTURALLY_KILLED_PNWRS  0 non-null      float64\n",
      " 55  INCIDENT1                0 non-null      object \n",
      " 56  FIREYEAR1                0 non-null      float64\n",
      " 57  AREA1                    0 non-null      float64\n",
      " 58  PERIM1                   0 non-null      float64\n",
      " 59  INCIDENT2                0 non-null      object \n",
      " 60  FIREYEAR2                0 non-null      float64\n",
      " 61  AREA2                    0 non-null      float64\n",
      " 62  PERIM2                   0 non-null      float64\n",
      " 63  INCIDENT3                0 non-null      object \n",
      " 64  FIREYEAR3                0 non-null      float64\n",
      " 65  AREA3                    0 non-null      float64\n",
      " 66  PERIM3                   0 non-null      float64\n",
      "dtypes: float64(46), int64(15), object(6)\n",
      "memory usage: 5.0+ MB\n",
      "<class 'pandas.core.frame.DataFrame'>\n",
      "Index: 9725 entries, 9079 to 24313\n",
      "Data columns (total 67 columns):\n",
      " #   Column                   Non-Null Count  Dtype  \n",
      "---  ------                   --------------  -----  \n",
      " 0   Unnamed: 0               9725 non-null   int64  \n",
      " 1   PLOT                     9725 non-null   int64  \n",
      " 2   LAT                      9725 non-null   float64\n",
      " 3   LON                      9725 non-null   float64\n",
      " 4   ELEV                     9725 non-null   float64\n",
      " 5   COUNTYCD                 9725 non-null   int64  \n",
      " 6   UNITCD                   9725 non-null   int64  \n",
      " 7   PLT_CN                   9725 non-null   int64  \n",
      " 8   CN                       9725 non-null   int64  \n",
      " 9   PREV_TRE_CN              9725 non-null   float64\n",
      " 10  UNIQUE_PLOT_ID           9725 non-null   object \n",
      " 11  INVYR                    9725 non-null   int64  \n",
      " 12  MEASYEAR                 9725 non-null   int64  \n",
      " 13  MEASMON                  9725 non-null   int64  \n",
      " 14  MEASDAY                  9725 non-null   int64  \n",
      " 15  CREATED_DATE             9725 non-null   object \n",
      " 16  MODIFIED_DATE            9725 non-null   object \n",
      " 17  TREE                     9725 non-null   int64  \n",
      " 18  SUBP                     9725 non-null   int64  \n",
      " 19  CONDID                   9725 non-null   int64  \n",
      " 20  PREVCOND                 9725 non-null   float64\n",
      " 21  STATUSCD                 9725 non-null   int64  \n",
      " 22  SPCD                     9725 non-null   float64\n",
      " 23  SPGRPCD                  9725 non-null   int64  \n",
      " 24  CULL                     6299 non-null   float64\n",
      " 25  DIA                      6619 non-null   float64\n",
      " 26  HT                       6619 non-null   float64\n",
      " 27  DRYBIO_AG                6619 non-null   float64\n",
      " 28  CR                       2066 non-null   float64\n",
      " 29  CCLCD                    2066 non-null   float64\n",
      " 30  DAMLOC1                  0 non-null      float64\n",
      " 31  DAMTYP1                  0 non-null      float64\n",
      " 32  DAMSEV1                  0 non-null      float64\n",
      " 33  DAMLOC2                  0 non-null      float64\n",
      " 34  DAMTYP2                  0 non-null      float64\n",
      " 35  DAMSEV2                  0 non-null      float64\n",
      " 36  DECAYCD                  4553 non-null   float64\n",
      " 37  MORTYR                   5689 non-null   float64\n",
      " 38  STANDING_DEAD_CD         7149 non-null   float64\n",
      " 39  DAMLOC1_PNWRS            142 non-null    float64\n",
      " 40  DAMLOC2_PNWRS            42 non-null     float64\n",
      " 41  DMG_AGENT1_CD_PNWRS      42 non-null     float64\n",
      " 42  DMG_AGENT2_CD_PNWRS      11 non-null     float64\n",
      " 43  DMG_AGENT3_CD_PNWRS      0 non-null      float64\n",
      " 44  SEVERITY1_CD_PNWRS       0 non-null      float64\n",
      " 45  SEVERITY1A_CD_PNWRS      42 non-null     float64\n",
      " 46  SEVERITY1B_CD_PNWRS      0 non-null      float64\n",
      " 47  SEVERITY2_CD_PNWRS       0 non-null      float64\n",
      " 48  SEVERITY2A_CD_PNWRS      11 non-null     float64\n",
      " 49  SEVERITY2B_CD_PNWRS      0 non-null      float64\n",
      " 50  SEVERITY3_CD_PNWRS       0 non-null      float64\n",
      " 51  DAMAGE_AGENT_CD1         1924 non-null   float64\n",
      " 52  DAMAGE_AGENT_CD2         903 non-null    float64\n",
      " 53  DAMAGE_AGENT_CD3         337 non-null    float64\n",
      " 54  CULTURALLY_KILLED_PNWRS  5369 non-null   float64\n",
      " 55  INCIDENT1                9725 non-null   object \n",
      " 56  FIREYEAR1                9725 non-null   float64\n",
      " 57  AREA1                    9725 non-null   float64\n",
      " 58  PERIM1                   9725 non-null   float64\n",
      " 59  INCIDENT2                3860 non-null   object \n",
      " 60  FIREYEAR2                3860 non-null   float64\n",
      " 61  AREA2                    3860 non-null   float64\n",
      " 62  PERIM2                   3860 non-null   float64\n",
      " 63  INCIDENT3                106 non-null    object \n",
      " 64  FIREYEAR3                106 non-null    float64\n",
      " 65  AREA3                    106 non-null    float64\n",
      " 66  PERIM3                   106 non-null    float64\n",
      "dtypes: float64(46), int64(15), object(6)\n",
      "memory usage: 5.0+ MB\n"
     ]
    }
   ],
   "source": [
    "train1.info(verbose = True)\n",
    "train1.head()\n",
    "\n",
    "train2.info(verbose = True)"
   ]
  },
  {
   "cell_type": "markdown",
   "metadata": {},
   "source": [
    "##### This section is to satisfy my own curiosity about species representation in the dataset:"
   ]
  },
  {
   "cell_type": "code",
   "execution_count": 3,
   "metadata": {},
   "outputs": [
    {
     "data": {
      "text/plain": [
       "SPGRPCD\n",
       "10    2657\n",
       "12    2278\n",
       "21    2139\n",
       "11     910\n",
       "18     625\n",
       "24     369\n",
       "19     360\n",
       "13     103\n",
       "22      81\n",
       "44      67\n",
       "48      49\n",
       "15      38\n",
       "47      30\n",
       "46      18\n",
       "45       1\n",
       "Name: count, dtype: int64"
      ]
     },
     "execution_count": 3,
     "metadata": {},
     "output_type": "execute_result"
    }
   ],
   "source": [
    "train1.SPGRPCD.value_counts()"
   ]
  },
  {
   "cell_type": "code",
   "execution_count": 4,
   "metadata": {},
   "outputs": [],
   "source": [
    "import matplotlib.pyplot as plt\n",
    "import seaborn as sns\n",
    "sns.set_style(\"whitegrid\")"
   ]
  },
  {
   "cell_type": "code",
   "execution_count": 5,
   "metadata": {},
   "outputs": [
    {
     "data": {
      "image/png": "[encoded data removed]",
      "text/plain": [
       "<Figure size 640x480 with 1 Axes>"
      ]
     },
     "metadata": {},
     "output_type": "display_data"
    }
   ],
   "source": [
    "plt.hist(train1[\"SPGRPCD\"], range = [0.5,56.5], bins = 56, alpha = .8)\n",
    "plt.show()"
   ]
  },
  {
   "cell_type": "markdown",
   "metadata": {},
   "source": [
    "Codes 1-24 are softwoods, 25-48 are hardwoods, 51-54 are tropical/subtropical, and 55-56 are \"urban\" (whatever that means). Full details in Appendix E of the FIA user guide. So the vast majority of our sample are softwoods of various types. It might make sense to break those apart further eventually."
   ]
  },
  {
   "cell_type": "markdown",
   "metadata": {},
   "source": [
    "#### (Transferred to data_loader)"
   ]
  },
  {
   "cell_type": "code",
   "execution_count": 6,
   "metadata": {},
   "outputs": [],
   "source": [
    "# combined_train = train1.merge(train2, left_on = \"CN\", right_on = \"PREV_TRE_CN\", suffixes = (\"_pre_burn\", \"_post_burn\"))\n",
    "# combined_train.dropna(axis = 1, how = \"all\", inplace = True)\n",
    "\n",
    "# # Checking the merge and removing redundant identifiers\n",
    "# assert((combined_train[\"CN_pre_burn\"] == combined_train[\"PREV_TRE_CN_post_burn\"]).all())\n",
    "# combined_train.drop(\"PREV_TRE_CN_post_burn\", axis = 1, inplace = True)\n",
    "# combined_train.rename(columns={\"CN_pre_burn\": \"CN\"}, inplace = True)\n",
    "\n",
    "# if (combined_train[\"CONDID_pre_burn\"] == combined_train[\"PREVCOND_post_burn\"]).all():\n",
    "#     combined_train.drop(\"PREVCOND_post_burn\", axis = 1, inplace = True)\n",
    "# else: print(\"Merge issue! CONDID inconsistent!\")\n",
    "\n",
    "# # Cleaning up redundant columns\n",
    "# stable_features = [\"PLOT\", \"LAT\", \"LON\", \"ELEV\", \"COUNTYCD\", \"UNITCD\", \"TREE\", \"SUBP\", \"UNIQUE_PLOT_ID\", \"SPCD\", \"SPGRPCD\"]\n",
    "# for col in stable_features:\n",
    "#     if (combined_train[col + \"_pre_burn\"] == combined_train[col + \"_post_burn\"]).all():\n",
    "#         combined_train.drop(col+\"_post_burn\", axis = 1, inplace = True)\n",
    "#         combined_train.rename(columns={col+\"_pre_burn\": col}, inplace = True)\n",
    "#     else: \n",
    "#         print(f\"Merge issue! {col} doesn't match!\")\n",
    "\n",
    "\n",
    "# # Simplifying fire column names\n",
    "# for num in [\"1\",\"2\",\"3\"]:\n",
    "#     for col in [\"INCIDENT\", \"FIREYEAR\", \"AREA\", \"PERIM\"]:\n",
    "#         combined_train.rename(columns={col+num+\"_post_burn\": col+num}, inplace = True)\n",
    "\n",
    "# print(\"-\"*70)\n",
    "# combined_train.info(verbose=True, show_counts=True)\n",
    "# combined_train[combined_train[\"SPGRPCD_pre_burn\"] != combined_train[\"SPGRPCD_post_burn\"]].count()"
   ]
  },
  {
   "cell_type": "code",
   "execution_count": 7,
   "metadata": {},
   "outputs": [],
   "source": [
    "# import numpy as np"
   ]
  },
  {
   "cell_type": "code",
   "execution_count": null,
   "metadata": {},
   "outputs": [
    {
     "ename": "NameError",
     "evalue": "name 'combined_train' is not defined",
     "output_type": "error",
     "traceback": [
      "\u001b[1;31m---------------------------------------------------------------------------\u001b[0m",
      "\u001b[1;31mNameError\u001b[0m                                 Traceback (most recent call last)",
      "Cell \u001b[1;32mIn[8], line 20\u001b[0m\n\u001b[0;32m      1\u001b[0m \u001b[38;5;66;03m# # Manipulating burn data to use as features\u001b[39;00m\n\u001b[0;32m      2\u001b[0m \u001b[38;5;66;03m# for i in [\"1\",\"2\",\"3\"]:\u001b[39;00m\n\u001b[0;32m      3\u001b[0m \u001b[38;5;66;03m#     combined_train[f\"YRS_SINCE_BURN{i}\"] = combined_train[\"MEASYEAR_post_burn\"] - combined_train[f\"FIREYEAR{i}\"]\u001b[39;00m\n\u001b[1;32m   (...)\u001b[0m\n\u001b[0;32m     17\u001b[0m \u001b[38;5;66;03m# combined_train[\"ALIVE_pre_burn\"] = 1*(combined_train[\"STATUSCD_pre_burn\"] == 1)\u001b[39;00m\n\u001b[0;32m     18\u001b[0m \u001b[38;5;66;03m# combined_train[\"ALIVE_post_burn\"] = 1*(combined_train[\"STATUSCD_post_burn\"] == 1)\u001b[39;00m\n\u001b[1;32m---> 20\u001b[0m \u001b[38;5;28mprint\u001b[39m(\u001b[43mcombined_train\u001b[49m[\u001b[38;5;124m\"\u001b[39m\u001b[38;5;124mSTATUSCD_post_burn\u001b[39m\u001b[38;5;124m\"\u001b[39m]\u001b[38;5;241m.\u001b[39mvalue_counts(),\n\u001b[0;32m     21\u001b[0m       \u001b[38;5;124m\"\u001b[39m\u001b[38;5;130;01m\\n\u001b[39;00m\u001b[38;5;124m0 = couldn\u001b[39m\u001b[38;5;124m'\u001b[39m\u001b[38;5;124mt resample, 1 = alive, 2 = dead, 3 = removed by humans\u001b[39m\u001b[38;5;124m\"\u001b[39m)\n\u001b[0;32m     23\u001b[0m \u001b[38;5;66;03m# Removing trees that were dead before, or removed or nonsampled after\u001b[39;00m\n\u001b[0;32m     24\u001b[0m combined_train \u001b[38;5;241m=\u001b[39m combined_train[\u001b[38;5;241m~\u001b[39m((combined_train[\u001b[38;5;124m'\u001b[39m\u001b[38;5;124mSTATUSCD_pre_burn\u001b[39m\u001b[38;5;124m'\u001b[39m] \u001b[38;5;241m==\u001b[39m\u001b[38;5;241m2\u001b[39m) \u001b[38;5;241m|\u001b[39m (combined_train[\u001b[38;5;124m'\u001b[39m\u001b[38;5;124mSTATUSCD_post_burn\u001b[39m\u001b[38;5;124m'\u001b[39m]\u001b[38;5;241m==\u001b[39m\u001b[38;5;241m3\u001b[39m) \u001b[38;5;241m|\u001b[39m (combined_train[\u001b[38;5;124m'\u001b[39m\u001b[38;5;124mSTATUSCD_post_burn\u001b[39m\u001b[38;5;124m'\u001b[39m]\u001b[38;5;241m==\u001b[39m\u001b[38;5;241m0\u001b[39m))]\n",
      "\u001b[1;31mNameError\u001b[0m: name 'combined_train' is not defined"
     ]
    }
   ],
   "source": [
    "# # Manipulating burn data to use as features\n",
    "# for i in [\"1\",\"2\",\"3\"]:\n",
    "#     combined_train[f\"YRS_SINCE_BURN{i}\"] = combined_train[\"MEASYEAR_post_burn\"] - combined_train[f\"FIREYEAR{i}\"]\n",
    "# combined_train[\"YRS_SINCE_BURN\"] = combined_train[[\"YRS_SINCE_BURN1\",\"YRS_SINCE_BURN2\",\"YRS_SINCE_BURN3\"]].min(axis = 1)\n",
    "# combined_train[\"NUM_BURNS\"] = combined_train[[\"FIREYEAR1\",\"FIREYEAR2\",\"FIREYEAR3\"]].notna().sum(axis=1)\n",
    "# combined_train[\"BURN_AREA_TOTAL\"] = combined_train[[\"AREA1\",\"AREA2\",\"AREA3\"]].sum(axis=1)\n",
    "\n",
    "# # Manipulating species codes to use as a feature\n",
    "# combined_train[\"SOFTWOOD\"] = 1*(combined_train[\"SPGRPCD_pre_burn\"].between(0,24, inclusive = \"both\") & combined_train[\"SPGRPCD_post_burn\"].between(0,24, inclusive = \"both\"))\n",
    "# combined_train[\"HARDWOOD\"] = 1*(combined_train[\"SPGRPCD_pre_burn\"].between(25,48, inclusive = \"both\") & combined_train[\"SPGRPCD_post_burn\"].between(25,48, inclusive = \"both\"))\n",
    "\n",
    "# # combined_train[\"SOFTWOOD\"].value_counts()\n",
    "# # combined_train[\"HARDWOOD\"].value_counts()\n",
    "# # These showed that all trees in the sample were either soft or hardwoods (i.e. we didn't have any \"tropical\" or \"urban\",\n",
    "# # and the species code inconsistencies seen above didn't mismatch outside of their tree soft/hardwood tree family)\n",
    "\n",
    "# combined_train[\"ALIVE_pre_burn\"] = 1*(combined_train[\"STATUSCD_pre_burn\"] == 1)\n",
    "# combined_train[\"ALIVE_post_burn\"] = 1*(combined_train[\"STATUSCD_post_burn\"] == 1)\n",
    "\n",
    "# print(combined_train[\"STATUSCD_post_burn\"].value_counts(),\n",
    "#       \"\\n0 = couldn't resample, 1 = alive, 2 = dead, 3 = removed by humans\")\n",
    "\n",
    "# # Removing trees that were dead before, or removed or nonsampled after\n",
    "# combined_train = combined_train[~((combined_train['STATUSCD_pre_burn'] ==2) | (combined_train['STATUSCD_post_burn']==3) | (combined_train['STATUSCD_post_burn']==0))]\n",
    "\n",
    "# print(\"-\"*80, \"\\n\", combined_train[\"STATUSCD_post_burn\"].value_counts(),\n",
    "#       \"\\n0 = couldn't resample, 1 = alive, 2 = dead, 3 = removed by humans\")"
   ]
  },
  {
   "cell_type": "code",
   "execution_count": null,
   "metadata": {},
   "outputs": [
    {
     "name": "stdout",
     "output_type": "stream",
     "text": [
      "<class 'pandas.core.frame.DataFrame'>\n",
      "Index: 7443 entries, 0 to 9724\n",
      "Data columns (total 13 columns):\n",
      " #   Column              Non-Null Count  Dtype  \n",
      "---  ------              --------------  -----  \n",
      " 0   CN                  7443 non-null   int64  \n",
      " 1   ALIVE_pre_burn      7443 non-null   int32  \n",
      " 2   CULL_pre_burn       6751 non-null   float64\n",
      " 3   DIA_pre_burn        7443 non-null   float64\n",
      " 4   HT_pre_burn         7443 non-null   float64\n",
      " 5   DRYBIO_AG_pre_burn  7443 non-null   float64\n",
      " 6   ELEV                7443 non-null   float64\n",
      " 7   SOFTWOOD            7443 non-null   int32  \n",
      " 8   YRS_SINCE_BURN      7443 non-null   float64\n",
      " 9   NUM_BURNS           7443 non-null   int64  \n",
      " 10  BURN_AREA_TOTAL     7443 non-null   float64\n",
      " 11  CONDID_post_burn    7443 non-null   int64  \n",
      " 12  CULL_post_burn      5764 non-null   float64\n",
      "dtypes: float64(8), int32(2), int64(3)\n",
      "memory usage: 755.9 KB\n"
     ]
    }
   ],
   "source": [
    "# indicator_features = [\"ALIVE_pre_burn\", \"CULL_pre_burn\", \"DIA_pre_burn\", \"HT_pre_burn\", \"DRYBIO_AG_pre_burn\", \"ELEV\", \"SOFTWOOD\", \"YRS_SINCE_BURN\", \"NUM_BURNS\", \"BURN_AREA_TOTAL\"] #unfinished\n",
    "# meta_features = [\"CN\"]\n",
    "# outcome_features = [\"ALIVE_post_burn\", \"CULL_post_burn\"] \n",
    "# mini_train = combined_train[meta_features + indicator_features + outcome_features]\n",
    "\n",
    "# mini_train.info(verbose = True)"
   ]
  },
  {
   "cell_type": "markdown",
   "metadata": {},
   "source": [
    "## On to the data science!"
   ]
  },
  {
   "cell_type": "markdown",
   "metadata": {},
   "source": [
    "#### K Nearest Neighbors"
   ]
  },
  {
   "cell_type": "code",
   "execution_count": null,
   "metadata": {},
   "outputs": [
    {
     "name": "stdout",
     "output_type": "stream",
     "text": [
      "SPCD inconsistent; column will not be merged.\n",
      "SPGRPCD inconsistent; column will not be merged.\n",
      "SPCD inconsistent; column will not be merged.\n",
      "SPGRPCD inconsistent; column will not be merged.\n",
      "<class 'pandas.core.frame.DataFrame'>\n",
      "Index: 7443 entries, 0 to 9724\n",
      "Data columns (total 13 columns):\n",
      " #   Column              Non-Null Count  Dtype  \n",
      "---  ------              --------------  -----  \n",
      " 0   CN                  7443 non-null   int64  \n",
      " 1   ALIVE_pre_burn      7443 non-null   int64  \n",
      " 2   CULL_pre_burn       6751 non-null   float64\n",
      " 3   DIA_pre_burn        7443 non-null   float64\n",
      " 4   HT_pre_burn         7443 non-null   float64\n",
      " 5   DRYBIO_AG_pre_burn  7443 non-null   float64\n",
      " 6   ELEV                7443 non-null   float64\n",
      " 7   SOFTWOOD            7443 non-null   int64  \n",
      " 8   YRS_SINCE_BURN      7443 non-null   float64\n",
      " 9   NUM_BURNS           7443 non-null   int64  \n",
      " 10  BURN_AREA_TOTAL     7443 non-null   float64\n",
      " 11  ALIVE_post_burn     7443 non-null   int64  \n",
      " 12  CULL_post_burn      5764 non-null   float64\n",
      "dtypes: float64(8), int64(5)\n",
      "memory usage: 814.1 KB\n"
     ]
    }
   ],
   "source": [
    "train = data_merge(train1, train2,)\n",
    "test = data_merge(test1, test2)\n",
    "\n",
    "train.info(verbose=True, show_counts=True)"
   ]
  },
  {
   "cell_type": "code",
   "execution_count": 57,
   "metadata": {},
   "outputs": [],
   "source": [
    "from sklearn.model_selection import StratifiedKFold, KFold #, cross_val_score\n",
    "from sklearn.preprocessing import StandardScaler\n",
    "from sklearn.pipeline import Pipeline\n",
    "from sklearn.neighbors import KNeighborsClassifier, KNeighborsRegressor\n",
    "from sklearn.dummy import DummyClassifier, DummyRegressor\n",
    "\n",
    "from sklearn.metrics import confusion_matrix, accuracy_score, root_mean_squared_error"
   ]
  },
  {
   "cell_type": "code",
   "execution_count": null,
   "metadata": {},
   "outputs": [
    {
     "name": "stdout",
     "output_type": "stream",
     "text": [
      "2 Neighbors accuracy scores: [0.7801628423390081, 0.7888888888888889, 0.7770370370370371, 0.822962962962963, 0.8066666666666666] \n",
      " Mean accuracy for 2 Neighbors: 0.7951436795789127 \n",
      "\n",
      "3 Neighbors accuracy scores: [0.8038490007401925, 0.7896296296296297, 0.7896296296296297, 0.797037037037037, 0.8155555555555556] \n",
      " Mean accuracy for 3 Neighbors: 0.7991401705184089 \n",
      "\n",
      "4 Neighbors accuracy scores: [0.7971872686898593, 0.7948148148148149, 0.8037037037037037, 0.8066666666666666, 0.8288888888888889] \n",
      " Mean accuracy for 4 Neighbors: 0.8062522685527866 \n",
      "\n",
      "5 Neighbors accuracy scores: [0.8008882309400445, 0.802962962962963, 0.7933333333333333, 0.8037037037037037, 0.8340740740740741] \n",
      " Mean accuracy for 5 Neighbors: 0.8069924610028238 \n",
      "\n",
      "6 Neighbors accuracy scores: [0.7971872686898593, 0.7977777777777778, 0.8051851851851852, 0.8192592592592592, 0.8362962962962963] \n",
      " Mean accuracy for 6 Neighbors: 0.8111411574416756 \n",
      "\n",
      "7 Neighbors accuracy scores: [0.7964470762398224, 0.78, 0.7903703703703704, 0.8014814814814815, 0.8377777777777777] \n",
      " Mean accuracy for 7 Neighbors: 0.8012153411738904 \n",
      "\n",
      "8 Neighbors accuracy scores: [0.8156920799407846, 0.794074074074074, 0.8096296296296296, 0.8303703703703704, 0.8266666666666667] \n",
      " Mean accuracy for 8 Neighbors: 0.815286564136305 \n",
      "\n",
      "9 Neighbors accuracy scores: [0.8119911176905995, 0.7977777777777778, 0.7911111111111111, 0.8274074074074074, 0.8162962962962963] \n",
      " Mean accuracy for 9 Neighbors: 0.8089167420566383 \n",
      "\n",
      "10 Neighbors accuracy scores: [0.8134715025906736, 0.7911111111111111, 0.7955555555555556, 0.8237037037037037, 0.8288888888888889] \n",
      " Mean accuracy for 10 Neighbors: 0.8105461523699866 \n",
      "\n",
      "11 Neighbors accuracy scores: [0.8156920799407846, 0.782962962962963, 0.794074074074074, 0.8311111111111111, 0.8340740740740741] \n",
      " Mean accuracy for 11 Neighbors: 0.8115828604326014 \n",
      "\n",
      "12 Neighbors accuracy scores: [0.8127313101406366, 0.797037037037037, 0.7896296296296297, 0.82, 0.8274074074074074] \n",
      " Mean accuracy for 12 Neighbors: 0.8093610768429421 \n",
      "\n",
      "13 Neighbors accuracy scores: [0.8105107327905255, 0.7822222222222223, 0.7874074074074074, 0.825925925925926, 0.8325925925925926] \n",
      " Mean accuracy for 13 Neighbors: 0.8077317761877347 \n",
      "\n",
      "14 Neighbors accuracy scores: [0.8090303478904515, 0.7859259259259259, 0.7903703703703704, 0.8251851851851851, 0.8288888888888889] \n",
      " Mean accuracy for 14 Neighbors: 0.8078801436521644 \n",
      "\n",
      "15 Neighbors accuracy scores: [0.7875647668393783, 0.7792592592592592, 0.7807407407407407, 0.817037037037037, 0.8155555555555556] \n",
      " Mean accuracy for 15 Neighbors: 0.7960314718863941 \n",
      "\n",
      "16 Neighbors accuracy scores: [0.8001480384900074, 0.7918518518518518, 0.7851851851851852, 0.8059259259259259, 0.8237037037037037] \n",
      " Mean accuracy for 16 Neighbors: 0.8013629410313348 \n",
      "\n",
      "17 Neighbors accuracy scores: [0.7868245743893413, 0.794074074074074, 0.7866666666666666, 0.8185185185185185, 0.8185185185185185] \n",
      " Mean accuracy for 17 Neighbors: 0.8009204704334237 \n",
      "\n",
      "18 Neighbors accuracy scores: [0.7971872686898593, 0.7918518518518518, 0.7807407407407407, 0.8066666666666666, 0.8177777777777778] \n",
      " Mean accuracy for 18 Neighbors: 0.7988448611453792 \n",
      "\n",
      "19 Neighbors accuracy scores: [0.7949666913397483, 0.7925925925925926, 0.7807407407407407, 0.82, 0.8088888888888889] \n",
      " Mean accuracy for 19 Neighbors: 0.7994377827123941 \n",
      "\n"
     ]
    }
   ],
   "source": [
    "# Removing rows which have no CULL data to use this as a feature\n",
    "train_no_nan = train.dropna(axis = 0, subset = [\"CULL_pre_burn\"])\n",
    "\n",
    "splits = 5\n",
    "kfold = StratifiedKFold(splits, random_state=216, shuffle=True)\n",
    "# indicator_features = [\"ALIVE_pre_burn\", \"CULL_pre_burn\", \"DIA_pre_burn\", \"HT_pre_burn\", \"DRYBIO_AG_pre_burn\",\n",
    "#                       \"ELEV\", \"SOFTWOOD\", \"YRS_SINCE_BURN\", \"NUM_BURNS\", \"BURN_AREA_TOTAL\"]\n",
    "indicator_features = [\"ELEV\", \"SOFTWOOD\", \"BURN_AREA_TOTAL\"]\n",
    "\n",
    "\n",
    "for k in range(2,20):\n",
    "    classifier_pipe = Pipeline([(\"Scaler\", StandardScaler()), \n",
    "                                (\"KNN Classifier\", KNeighborsClassifier(n_neighbors=k))])\n",
    "    \n",
    "    acc_list = []\n",
    "    for i, (train_index, test_index) in enumerate(kfold.split(train_no_nan[indicator_features],train_no_nan['ALIVE_post_burn'])):\n",
    "        t_train = train_no_nan.iloc[train_index]\n",
    "        t_val = train_no_nan.iloc[test_index]\n",
    "\n",
    "        classifier_pipe.fit(t_train[indicator_features], t_train[\"ALIVE_post_burn\"])\n",
    "        pred = classifier_pipe.predict(t_val[indicator_features])\n",
    "        acc_list.append(accuracy_score(t_val[\"ALIVE_post_burn\"], pred))\n",
    "    \n",
    "    print(f\"{k} Neighbors accuracy scores: {acc_list} \\n Mean accuracy for {k} Neighbors: {sum(acc_list)/len(acc_list)} \\n\")"
   ]
  },
  {
   "cell_type": "markdown",
   "metadata": {},
   "source": [
    "Noteworthy accuracies: \n",
    "- 78.9% with all indicator_features and 4 neighbors\n",
    "- 81.0% with [\"CULL_pre_burn\", \"ELEV\", \"SOFTWOOD\", \"BURN_AREA_TOTAL\"] and 8 neighbors\n",
    "    - far worse with NUM_BURNS instead of BURN_AREA_TOTAL (low 70s)\n",
    "- 81.5% with [\"ELEV\", \"SOFTWOOD\", \"BURN_AREA_TOTAL\"] and 8 neighbors\n",
    "    - Adding YRS_SINCE_BURN helps by another % point, HOWEVER this is most likely due to data leakage;\n",
    "    trees with a higher delay in measuring were probably more likely to have been removed, or impossible\n",
    "    to locate when it was time to resample.\n",
    "\n"
   ]
  },
  {
   "cell_type": "code",
   "execution_count": null,
   "metadata": {},
   "outputs": [],
   "source": [
    "# Fitting the best model to the entire test data set:\n",
    "classifier_pipe = Pipeline([(\"Scaler\", StandardScaler()), \n",
    "                            (\"KNN Classifier\", KNeighborsClassifier(n_neighbors=8))])\n",
    "best_classifier = classifier_pipe.fit(train_no_nan[indicator_features], train_no_nan[\"ALIVE_post_burn\"])\n",
    "\n",
    "# Run this on test set once we're done with modeling other features"
   ]
  },
  {
   "cell_type": "markdown",
   "metadata": {},
   "source": [
    "#### Now let's try to predict the extent of damage."
   ]
  },
  {
   "cell_type": "markdown",
   "metadata": {},
   "source": [
    "CULL is defined in the FIA database user guide as \"the percent of the cubic-foot volume in a live or dead tally tree\n",
    "that is rotten or missing."
   ]
  },
  {
   "cell_type": "code",
   "execution_count": 75,
   "metadata": {},
   "outputs": [
    {
     "name": "stdout",
     "output_type": "stream",
     "text": [
      "2 Neighbors scores: [-0.07088436488676653, -0.03321278000147476, -0.24458748974467648, -0.4825613727167164, -0.06990846090123459] \n",
      " Average score for 2 Neighbors: -0.18023089365017375 \n",
      "\n",
      "3 Neighbors scores: [-0.015149857704784608, -0.10981459752277534, -0.20195116940888913, -0.3182416494408127, -0.06487536344660039] \n",
      " Average score for 3 Neighbors: -0.14200652750477244 \n",
      "\n",
      "4 Neighbors scores: [0.004438737315258345, 0.015861552430050163, -0.14048850235388444, -0.33127220760280873, 0.11740778649537764] \n",
      " Average score for 4 Neighbors: -0.0668105267432014 \n",
      "\n",
      "5 Neighbors scores: [0.003278039185080628, 0.09490878944576364, -0.11468405643872903, -0.1947899435986875, 0.0986185356764131] \n",
      " Average score for 5 Neighbors: -0.022533727146031836 \n",
      "\n",
      "6 Neighbors scores: [0.02212216940282008, 0.13895653247086814, -0.11620092083625666, -0.15317237862092092, 0.13518282531630632] \n",
      " Average score for 6 Neighbors: 0.005377645546563392 \n",
      "\n",
      "7 Neighbors scores: [0.03058080799068541, 0.13626805768723527, -0.0869723550114947, -0.12724730484362134, 0.13437750044746288] \n",
      " Average score for 7 Neighbors: 0.017401341254053505 \n",
      "\n",
      "8 Neighbors scores: [0.03299580192588669, 0.15291557497800368, -0.05229780319344357, -0.10613676299332542, 0.12152210749208503] \n",
      " Average score for 8 Neighbors: 0.02979978364184128 \n",
      "\n",
      "9 Neighbors scores: [0.02942201177694903, 0.16257574592647983, -0.027740373423480014, -0.05453387717350955, 0.13556410290705523] \n",
      " Average score for 9 Neighbors: 0.0490575220026989 \n",
      "\n",
      "10 Neighbors scores: [0.0669323920475633, 0.19005336634157177, -0.010442049685960741, -0.059408439046448436, 0.16524310045608137] \n",
      " Average score for 10 Neighbors: 0.07047567402256145 \n",
      "\n",
      "11 Neighbors scores: [0.068688519215938, 0.1894336167018793, 0.008548408725457257, -0.05263197097996808, 0.2162793358368379] \n",
      " Average score for 11 Neighbors: 0.08606358190002887 \n",
      "\n",
      "12 Neighbors scores: [0.07052524732058685, 0.19003915492514067, 0.015654880563367612, -0.00914698098873079, 0.21354878247817777] \n",
      " Average score for 12 Neighbors: 0.09612421685970843 \n",
      "\n",
      "13 Neighbors scores: [0.08054996997505193, 0.180406632147448, 0.01959010537413619, 0.00381870958944186, 0.18706422053798344] \n",
      " Average score for 13 Neighbors: 0.09428592752481228 \n",
      "\n",
      "14 Neighbors scores: [0.07907200329124309, 0.1785630081024343, 0.025972061472055885, 0.015583322649519227, 0.18352322129771503] \n",
      " Average score for 14 Neighbors: 0.09654272336259351 \n",
      "\n",
      "15 Neighbors scores: [0.07584159676421443, 0.17527988553707619, 0.03381261814996994, 0.011970465178766987, 0.1790620232109823] \n",
      " Average score for 15 Neighbors: 0.09519331776820197 \n",
      "\n",
      "16 Neighbors scores: [0.07832538294765834, 0.16968354817503717, 0.03329195430639098, 0.014476486550187517, 0.17978806654381685] \n",
      " Average score for 16 Neighbors: 0.09511308770461817 \n",
      "\n",
      "17 Neighbors scores: [0.07851067144307022, 0.16654400199802233, 0.0403442013542602, 0.023936513437965767, 0.17345055693573241] \n",
      " Average score for 17 Neighbors: 0.09655718903381019 \n",
      "\n",
      "18 Neighbors scores: [0.0823853811925862, 0.16269972325411264, 0.0465757463297829, 0.02057107641430589, 0.19507742367281888] \n",
      " Average score for 18 Neighbors: 0.1014618701727213 \n",
      "\n",
      "19 Neighbors scores: [0.07954291133147662, 0.16109007563211752, 0.04811675188051434, 0.020158287330566682, 0.19382464486934547] \n",
      " Average score for 19 Neighbors: 0.10054653420880413 \n",
      "\n"
     ]
    }
   ],
   "source": [
    "# Removing rows which have no CULL data to use this as a feature\n",
    "train_for_cull = train.dropna(axis = 0, subset = [\"CULL_pre_burn\", \"CULL_post_burn\"])\n",
    "\n",
    "splits = 5\n",
    "kfold = KFold(splits, random_state=216, shuffle=True)\n",
    "# indicator_features = [\"CULL_pre_burn\", \"DIA_pre_burn\", \"HT_pre_burn\", \"DRYBIO_AG_pre_burn\",\n",
    "#                       \"ELEV\", \"SOFTWOOD\", \"YRS_SINCE_BURN\", \"NUM_BURNS\", \"BURN_AREA_TOTAL\"]\n",
    "indicator_features = [\"CULL_pre_burn\", \"DRYBIO_AG_pre_burn\", \"ELEV\", \"SOFTWOOD\", \"YRS_SINCE_BURN\", \"BURN_AREA_TOTAL\"]\n",
    "\n",
    "\n",
    "for k in range(2,20):\n",
    "    regressor_pipe = Pipeline([(\"Scaler\", StandardScaler()), \n",
    "                                (\"KNN Regressor\", KNeighborsRegressor(n_neighbors=k))])\n",
    "    \n",
    "    score_list = []\n",
    "    for i, (train_index, test_index) in enumerate(kfold.split(train_for_cull[indicator_features],train_for_cull[\"CULL_post_burn\"])):\n",
    "        t_train = train_for_cull.iloc[train_index]\n",
    "        t_val = train_for_cull.iloc[test_index]\n",
    "\n",
    "        regressor_pipe.fit(t_train[indicator_features], t_train[\"CULL_post_burn\"])\n",
    "        score_list.append(regressor_pipe.score(t_val[indicator_features],t_val[\"CULL_post_burn\"]))\n",
    "    \n",
    "    print(f\"{k} Neighbors scores: {score_list} \\n Average score for {k} Neighbors: {sum(score_list)/len(score_list)} \\n\")"
   ]
  },
  {
   "cell_type": "markdown",
   "metadata": {},
   "source": [
    "From sklearn's documentation: \"The best possible score is 1.0 and it can be negative (because the model can be arbitrarily worse). A constant model that always predicts the expected value of y, disregarding the input features, would get a R^2 score of 0.0.\"\n",
    "\n",
    "Noteworthy scores:\n",
    "- Almost all scores I calculated were under 0.1. This indicates KNN is not a very effective method of predicting CULL.\n",
    "- .083 using all features, 17 neighbors\n",
    "- .082 using [\"CULL_pre_burn\", \"ELEV\", \"SOFTWOOD\", \"YRS_SINCE_BURN\", \"BURN_AREA_TOTAL\"], 17 neighbors\n",
    "    - adding in DIA or HT made it worse\n",
    "- .101 using [\"CULL_pre_burn\", \"DRYBIO_AG_pre_burn\", \"ELEV\", \"SOFTWOOD\", \"YRS_SINCE_BURN\", \"BURN_AREA_TOTAL\"] and 18 neighbors\n",
    "\n",
    "At least it's doing better than the mean regressor since it's consistently over 0. This may be a difficult task because so many entries in the CULL field are 0, even after burn. See below:"
   ]
  },
  {
   "cell_type": "code",
   "execution_count": 79,
   "metadata": {},
   "outputs": [
    {
     "data": {
      "text/plain": [
       "CULL_post_burn\n",
       "0.0     0.871755\n",
       "1.0     0.047221\n",
       "2.0     0.013765\n",
       "3.0     0.005576\n",
       "4.0     0.001742\n",
       "5.0     0.022129\n",
       "6.0     0.001220\n",
       "7.0     0.001220\n",
       "8.0     0.001568\n",
       "9.0     0.000174\n",
       "10.0    0.009061\n",
       "12.0    0.000523\n",
       "15.0    0.006447\n",
       "16.0    0.000174\n",
       "18.0    0.000523\n",
       "19.0    0.000174\n",
       "20.0    0.004356\n",
       "22.0    0.000174\n",
       "25.0    0.002788\n",
       "30.0    0.002614\n",
       "35.0    0.000871\n",
       "40.0    0.000871\n",
       "45.0    0.000348\n",
       "50.0    0.000697\n",
       "55.0    0.000348\n",
       "60.0    0.000523\n",
       "65.0    0.000174\n",
       "80.0    0.000523\n",
       "90.0    0.000697\n",
       "95.0    0.000523\n",
       "99.0    0.001220\n",
       "Name: proportion, dtype: float64"
      ]
     },
     "execution_count": 79,
     "metadata": {},
     "output_type": "execute_result"
    }
   ],
   "source": [
    "train_for_cull[\"CULL_post_burn\"].value_counts(normalize = True).sort_index()"
   ]
  },
  {
   "cell_type": "markdown",
   "metadata": {},
   "source": [
    "Human bias may be playing a part; there's a pronounced tendency towards values that are multiples of 5. The database documentation doesn't have much detail about *how* field crews estimate it, either."
   ]
  }
 ],
 "metadata": {
  "kernelspec": {
   "display_name": "erdos_fall_2024",
   "language": "python",
   "name": "python3"
  },
  "language_info": {
   "codemirror_mode": {
    "name": "ipython",
    "version": 3
   },
   "file_extension": ".py",
   "mimetype": "text/x-python",
   "name": "python",
   "nbconvert_exporter": "python",
   "pygments_lexer": "ipython3",
   "version": "3.12.5"
  }
 },
 "nbformat": 4,
 "nbformat_minor": 2
}
