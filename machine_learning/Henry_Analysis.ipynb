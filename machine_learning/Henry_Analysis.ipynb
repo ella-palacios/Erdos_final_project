{
 "cells": [
  {
   "cell_type": "markdown",
   "metadata": {},
   "source": [
    "### Henry Analysis"
   ]
  },
  {
   "cell_type": "code",
   "execution_count": 1,
   "metadata": {},
   "outputs": [],
   "source": [
    "import numpy as np\n",
    "import pandas as pd\n",
    "import matplotlib.pyplot as plt\n",
    "import plotly.express as px\n",
    "import seaborn as sns\n",
    "sns.set_style(\"whitegrid\")"
   ]
  },
  {
   "cell_type": "code",
   "execution_count": 2,
   "metadata": {},
   "outputs": [
    {
     "name": "stderr",
     "output_type": "stream",
     "text": [
      "/Users/henrycladouhos/Documents/GitHub/Erdos_Trees/machine_learning/data_loader.py:4: DtypeWarning: Columns (86,168,207,211,215) have mixed types. Specify dtype option on import or set low_memory=False.\n",
      "  def data_load_and_split(big_data=pd.read_csv('../Data/final_big_data.csv'),\n",
      "/Users/henrycladouhos/Documents/GitHub/Erdos_Trees/machine_learning/data_loader.py:5: DtypeWarning: Columns (55,59,63) have mixed types. Specify dtype option on import or set low_memory=False.\n",
      "  trimmed_data= pd.read_csv('../Data/trimmed_data.csv'),\n"
     ]
    }
   ],
   "source": [
    "from data_loader import data_load_and_split"
   ]
  },
  {
   "cell_type": "code",
   "execution_count": 4,
   "metadata": {},
   "outputs": [
    {
     "data": {
      "text/plain": [
       "Index(['Unnamed: 0', 'PLOT', 'LAT', 'LON', 'ELEV', 'COUNTYCD', 'UNITCD',\n",
       "       'PLT_CN', 'CN', 'PREV_TRE_CN', 'UNIQUE_PLOT_ID', 'INVYR', 'MEASYEAR',\n",
       "       'MEASMON', 'MEASDAY', 'CREATED_DATE', 'MODIFIED_DATE', 'TREE', 'SUBP',\n",
       "       'CONDID', 'PREVCOND', 'STATUSCD', 'SPCD', 'SPGRPCD', 'CULL', 'DIA',\n",
       "       'HT', 'DRYBIO_AG', 'CR', 'CCLCD', 'DAMLOC1', 'DAMTYP1', 'DAMSEV1',\n",
       "       'DAMLOC2', 'DAMTYP2', 'DAMSEV2', 'DECAYCD', 'MORTYR',\n",
       "       'STANDING_DEAD_CD', 'DAMLOC1_PNWRS', 'DAMLOC2_PNWRS',\n",
       "       'DMG_AGENT1_CD_PNWRS', 'DMG_AGENT2_CD_PNWRS', 'DMG_AGENT3_CD_PNWRS',\n",
       "       'SEVERITY1_CD_PNWRS', 'SEVERITY1A_CD_PNWRS', 'SEVERITY1B_CD_PNWRS',\n",
       "       'SEVERITY2_CD_PNWRS', 'SEVERITY2A_CD_PNWRS', 'SEVERITY2B_CD_PNWRS',\n",
       "       'SEVERITY3_CD_PNWRS', 'DAMAGE_AGENT_CD1', 'DAMAGE_AGENT_CD2',\n",
       "       'DAMAGE_AGENT_CD3', 'CULTURALLY_KILLED_PNWRS', 'INCIDENT1', 'FIREYEAR1',\n",
       "       'AREA1', 'PERIM1', 'INCIDENT2', 'FIREYEAR2', 'AREA2', 'PERIM2',\n",
       "       'INCIDENT3', 'FIREYEAR3', 'AREA3', 'PERIM3'],\n",
       "      dtype='object')"
      ]
     },
     "execution_count": 4,
     "metadata": {},
     "output_type": "execute_result"
    }
   ],
   "source": [
    "big_firstMeas_train, big_secondMeas_train, big_firstMeas_test, big_secondMeas_test, trimmed_firstMeas_train, trimmed_secondMeas_train, trimmed_firstMeas_test, trimmed_secondMeas_test = data_load_and_split()\n",
    "trimmed_firstMeas_train.columns"
   ]
  },
  {
   "cell_type": "code",
   "execution_count": 7,
   "metadata": {},
   "outputs": [
    {
     "name": "stdout",
     "output_type": "stream",
     "text": [
      "STATUSCD\n",
      "1    7936\n",
      "2    1789\n",
      "Name: count, dtype: int64\n",
      "STATUSCD\n",
      "2    7149\n",
      "1    2066\n",
      "3     313\n",
      "0     197\n",
      "Name: count, dtype: int64\n"
     ]
    }
   ],
   "source": [
    "print(trimmed_firstMeas_train['STATUSCD'].value_counts())\n",
    "print(trimmed_secondMeas_train['STATUSCD'].value_counts())\n"
   ]
  },
  {
   "cell_type": "markdown",
   "metadata": {},
   "source": [
    "## Default Models:\n",
    "- If the tree was alive it will still be alive, if the tree was dead it will still be dead (duh).  "
   ]
  },
  {
   "cell_type": "code",
   "execution_count": null,
   "metadata": {},
   "outputs": [],
   "source": []
  }
 ],
 "metadata": {
  "kernelspec": {
   "display_name": "erdos_fall_2024",
   "language": "python",
   "name": "python3"
  },
  "language_info": {
   "codemirror_mode": {
    "name": "ipython",
    "version": 3
   },
   "file_extension": ".py",
   "mimetype": "text/x-python",
   "name": "python",
   "nbconvert_exporter": "python",
   "pygments_lexer": "ipython3",
   "version": "3.12.5"
  }
 },
 "nbformat": 4,
 "nbformat_minor": 2
}
