{
 "cells": [
  {
   "cell_type": "code",
   "execution_count": 66,
   "metadata": {},
   "outputs": [],
   "source": [
    "from data_loader import data_load_and_split\n",
    "import pandas as pd"
   ]
  },
  {
   "cell_type": "code",
   "execution_count": 84,
   "metadata": {},
   "outputs": [
    {
     "name": "stderr",
     "output_type": "stream",
     "text": [
      "/var/folders/mm/t_p68_6506v3jg0m1f58zkv40000gn/T/ipykernel_91894/2586517335.py:1: DtypeWarning: Columns (86,168,207,211,215) have mixed types. Specify dtype option on import or set low_memory=False.\n",
      "  big_data = pd.read_csv('../Data/final_big_data.csv')\n",
      "/var/folders/mm/t_p68_6506v3jg0m1f58zkv40000gn/T/ipykernel_91894/2586517335.py:2: DtypeWarning: Columns (55,59,63) have mixed types. Specify dtype option on import or set low_memory=False.\n",
      "  trimmed_data = pd.read_csv('../Data/trimmed_data.csv')\n"
     ]
    }
   ],
   "source": [
    "big_data = pd.read_csv('../Data/final_big_data.csv')\n",
    "trimmed_data = pd.read_csv('../Data/trimmed_data.csv')"
   ]
  },
  {
   "cell_type": "code",
   "execution_count": 85,
   "metadata": {},
   "outputs": [],
   "source": [
    "big_firstMeas_train, big_secondMeas_train, big_firstMeas_test, big_secondMeas_test,trimmed_firstMeas_train, trimmed_secondMeas_train, trimmed_firstMeas_test, trimmed_secondMeas_test = data_load_and_split(big_data,trimmed_data)"
   ]
  },
  {
   "cell_type": "code",
   "execution_count": 86,
   "metadata": {},
   "outputs": [
    {
     "name": "stdout",
     "output_type": "stream",
     "text": [
      "9725 9725\n",
      "9725\n"
     ]
    }
   ],
   "source": [
    "print(len(big_firstMeas_train), len(big_secondMeas_train))\n",
    "print(big_firstMeas_train['CN'].nunique())\n"
   ]
  },
  {
   "cell_type": "code",
   "execution_count": 46,
   "metadata": {},
   "outputs": [
    {
     "name": "stdout",
     "output_type": "stream",
     "text": [
      "12157\n",
      "12157\n"
     ]
    },
    {
     "data": {
      "text/plain": [
       "12157"
      ]
     },
     "execution_count": 46,
     "metadata": {},
     "output_type": "execute_result"
    }
   ],
   "source": [
    "#len(trimmed_data[pd.isna(trimmed_data['INCIDENT1'])])\n",
    "len(big_data[~pd.isna(big_data['INCIDENT1'])])\n",
    "\n",
    "big_data_firstMeas = big_data[pd.isna(big_data['INCIDENT1'])]\n",
    "big_data_secondMeas = big_data[~pd.isna(big_data['INCIDENT1'])]\n",
    "\n",
    "#big_data_firstMeas['CN'].nunique()\n",
    "print(big_data_secondMeas['PREV_TRE_CN'].nunique())\n",
    "\n",
    "print(big_data_firstMeas['CN'].nunique())\n",
    "\n",
    "\n",
    "len(big_data_secondMeas[big_data_secondMeas['PREV_TRE_CN'].isin(big_data_firstMeas['CN'])])\n",
    "\n",
    "#len(big_data_firstMeas[big_data_firstMeas['CN'].isin(big_data_secondMeas['PREV_TRE_CN'])])\n"
   ]
  },
  {
   "cell_type": "code",
   "execution_count": 47,
   "metadata": {},
   "outputs": [
    {
     "data": {
      "text/plain": [
       "12157"
      ]
     },
     "execution_count": 47,
     "metadata": {},
     "output_type": "execute_result"
    }
   ],
   "source": [
    "len(big_data_firstMeas)"
   ]
  },
  {
   "cell_type": "code",
   "execution_count": 58,
   "metadata": {},
   "outputs": [],
   "source": [
    "big_data_firstMeas = big_data[pd.isna(big_data['PREV_TRE_CN'])]\n",
    "big_data_secondMeas = big_data[~pd.isna(big_data['PREV_TRE_CN'])]"
   ]
  },
  {
   "cell_type": "code",
   "execution_count": 60,
   "metadata": {},
   "outputs": [],
   "source": [
    "from sklearn.model_selection import train_test_split"
   ]
  },
  {
   "cell_type": "code",
   "execution_count": 65,
   "metadata": {},
   "outputs": [
    {
     "data": {
      "text/plain": [
       "9725"
      ]
     },
     "execution_count": 65,
     "metadata": {},
     "output_type": "execute_result"
    }
   ],
   "source": [
    "train_first, test_first = train_test_split(big_data_firstMeas, test_size= .2, random_state=216, shuffle =True)\n",
    "\n",
    "len(train_first)\n",
    "\n",
    "train_second = big_data_secondMeas[big_data_secondMeas['PREV_TRE_CN'].isin(train_first['CN'])]\n",
    "\n",
    "len(train_second)"
   ]
  }
 ],
 "metadata": {
  "kernelspec": {
   "display_name": "erdos_fall_2024",
   "language": "python",
   "name": "python3"
  },
  "language_info": {
   "codemirror_mode": {
    "name": "ipython",
    "version": 3
   },
   "file_extension": ".py",
   "mimetype": "text/x-python",
   "name": "python",
   "nbconvert_exporter": "python",
   "pygments_lexer": "ipython3",
   "version": "3.12.5"
  }
 },
 "nbformat": 4,
 "nbformat_minor": 2
}
