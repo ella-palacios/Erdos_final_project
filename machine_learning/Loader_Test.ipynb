{
 "cells": [
  {
   "cell_type": "code",
   "execution_count": 17,
   "metadata": {},
   "outputs": [],
   "source": [
    "from data_loader import data_load_and_split\n",
    "import pandas as pd"
   ]
  },
  {
   "cell_type": "code",
   "execution_count": 20,
   "metadata": {},
   "outputs": [
    {
     "name": "stderr",
     "output_type": "stream",
     "text": [
      "/var/folders/mm/t_p68_6506v3jg0m1f58zkv40000gn/T/ipykernel_90520/2093789755.py:1: DtypeWarning: Columns (86,168,207,211,215) have mixed types. Specify dtype option on import or set low_memory=False.\n",
      "  big_data = pd.read_csv('../Data/final_big_data.csv')\n"
     ]
    }
   ],
   "source": [
    "big_data = pd.read_csv('../Data/final_big_data.csv')"
   ]
  },
  {
   "cell_type": "code",
   "execution_count": 21,
   "metadata": {},
   "outputs": [],
   "source": [
    "big_firstMeas_train, big_secondMeas_train, big_firstMeas_test, big_secondMeas_test,trimmed_firstMeas_train, trimmed_secondMeas_train, trimmed_firstMeas_test, trimmed_secondMeas_test = data_load_and_split()"
   ]
  },
  {
   "cell_type": "code",
   "execution_count": 30,
   "metadata": {},
   "outputs": [
    {
     "name": "stdout",
     "output_type": "stream",
     "text": [
      "9725 9642\n",
      "9725\n"
     ]
    }
   ],
   "source": [
    "print(len(big_firstMeas_train), len(big_secondMeas_train))\n",
    "print(big_firstMeas_train['CN'].nunique())\n"
   ]
  },
  {
   "cell_type": "code",
   "execution_count": 29,
   "metadata": {},
   "outputs": [
    {
     "data": {
      "text/plain": [
       "12157"
      ]
     },
     "execution_count": 29,
     "metadata": {},
     "output_type": "execute_result"
    }
   ],
   "source": [
    "#len(trimmed_data[pd.isna(trimmed_data['INCIDENT1'])])\n",
    "len(big_data[~pd.isna(big_data['INCIDENT1'])])\n",
    "\n",
    "big_data_firstMeas = big_data[pd.isna(big_data['INCIDENT1'])]\n",
    "big_data_secondMeas = big_data[~pd.isna(big_data['INCIDENT1'])]\n",
    "\n",
    "#big_data_firstMeas['CN'].nunique()\n",
    "#big_data_secondMeas['PREV_TRE_CN'].nunique()\n",
    "\n",
    "len(big_data_firstMeas['CN'].isin(big_data_secondMeas['PREV_TRE_CN']))\n",
    "\n",
    "len(big_data_secondMeas['PREV_TRE_CN'].isin(big_data_firstMeas['CN']))"
   ]
  }
 ],
 "metadata": {
  "kernelspec": {
   "display_name": "erdos_fall_2024",
   "language": "python",
   "name": "python3"
  },
  "language_info": {
   "codemirror_mode": {
    "name": "ipython",
    "version": 3
   },
   "file_extension": ".py",
   "mimetype": "text/x-python",
   "name": "python",
   "nbconvert_exporter": "python",
   "pygments_lexer": "ipython3",
   "version": "3.12.5"
  }
 },
 "nbformat": 4,
 "nbformat_minor": 2
}
