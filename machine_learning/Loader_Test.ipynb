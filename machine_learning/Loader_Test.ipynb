{
 "cells": [
  {
   "cell_type": "code",
   "execution_count": 1,
   "metadata": {},
   "outputs": [
    {
     "name": "stderr",
     "output_type": "stream",
     "text": [
      "/Users/henrycladouhos/Documents/GitHub/Erdos_Trees/machine_learning/data_loader.py:4: DtypeWarning: Columns (86,168,207,211,215) have mixed types. Specify dtype option on import or set low_memory=False.\n",
      "  def data_load_and_split(big_data = pd.read_csv(\"../Data/final_big_data.csv\"),\n",
      "/Users/henrycladouhos/Documents/GitHub/Erdos_Trees/machine_learning/data_loader.py:5: DtypeWarning: Columns (63) have mixed types. Specify dtype option on import or set low_memory=False.\n",
      "  trimmed_data = pd.read_csv('../Data/trimmed_data.csv'),\n"
     ]
    }
   ],
   "source": [
    "from data_loader import data_load_and_split\n",
    "import pandas as pd"
   ]
  },
  {
   "cell_type": "code",
   "execution_count": 2,
   "metadata": {},
   "outputs": [
    {
     "name": "stderr",
     "output_type": "stream",
     "text": [
      "/var/folders/mm/t_p68_6506v3jg0m1f58zkv40000gn/T/ipykernel_90520/1648109178.py:1: DtypeWarning: Columns (63) have mixed types. Specify dtype option on import or set low_memory=False.\n",
      "  trimmed_data = pd.read_csv('../Data/trimmed_data.csv')\n"
     ]
    },
    {
     "data": {
      "text/plain": [
       "0                 NaN\n",
       "1                 NaN\n",
       "2                 NaN\n",
       "3                 NaN\n",
       "4                 NaN\n",
       "             ...     \n",
       "24309    4.509446e+13\n",
       "24310    4.509446e+13\n",
       "24311    4.509445e+13\n",
       "24312    4.509446e+13\n",
       "24313    4.509445e+13\n",
       "Name: PREV_TRE_CN, Length: 24314, dtype: float64"
      ]
     },
     "execution_count": 2,
     "metadata": {},
     "output_type": "execute_result"
    }
   ],
   "source": [
    "trimmed_data = pd.read_csv('../Data/trimmed_data.csv')\n",
    "trimmed_data['PREV_TRE_CN']"
   ]
  },
  {
   "cell_type": "code",
   "execution_count": 3,
   "metadata": {},
   "outputs": [],
   "source": [
    "big_firstMeas_train, big_secondMeas_train, big_firstMeas_test, big_secondMeas_test,trimmed_firstMeas_train, trimmed_secondMeas_train, trimmed_firstMeas_test, trimmed_secondMeas_test = data_load_and_split()"
   ]
  },
  {
   "cell_type": "code",
   "execution_count": 4,
   "metadata": {},
   "outputs": [
    {
     "name": "stdout",
     "output_type": "stream",
     "text": [
      "9725 9642\n"
     ]
    }
   ],
   "source": [
    "print(len(big_firstMeas_train), len(big_secondMeas_train))"
   ]
  }
 ],
 "metadata": {
  "kernelspec": {
   "display_name": "erdos_fall_2024",
   "language": "python",
   "name": "python3"
  },
  "language_info": {
   "codemirror_mode": {
    "name": "ipython",
    "version": 3
   },
   "file_extension": ".py",
   "mimetype": "text/x-python",
   "name": "python",
   "nbconvert_exporter": "python",
   "pygments_lexer": "ipython3",
   "version": "3.12.5"
  }
 },
 "nbformat": 4,
 "nbformat_minor": 2
}
