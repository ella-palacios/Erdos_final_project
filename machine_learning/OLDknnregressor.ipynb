{
 "cells": [
  {
   "cell_type": "markdown",
   "metadata": {},
   "source": [
    "#### Now let's try to predict the extent of damage."
   ]
  },
  {
   "cell_type": "markdown",
   "metadata": {},
   "source": [
    "CULL is defined in the FIA database user guide as \"the percent of the cubic-foot volume in a live or dead tally tree\n",
    "that is rotten or missing."
   ]
  },
  {
   "cell_type": "code",
   "execution_count": null,
   "metadata": {},
   "outputs": [
    {
     "name": "stdout",
     "output_type": "stream",
     "text": [
      "2 Neighbors scores: [-0.07088436488676653, -0.03321278000147476, -0.24458748974467648, -0.4825613727167164, -0.06990846090123459] \n",
      " Average score for 2 Neighbors: -0.18023089365017375 \n",
      "\n",
      "3 Neighbors scores: [-0.015149857704784608, -0.10981459752277534, -0.20195116940888913, -0.3182416494408127, -0.06487536344660039] \n",
      " Average score for 3 Neighbors: -0.14200652750477244 \n",
      "\n",
      "4 Neighbors scores: [0.004438737315258345, 0.015861552430050163, -0.14048850235388444, -0.33127220760280873, 0.11740778649537764] \n",
      " Average score for 4 Neighbors: -0.0668105267432014 \n",
      "\n",
      "5 Neighbors scores: [0.003278039185080628, 0.09490878944576364, -0.11468405643872903, -0.1947899435986875, 0.0986185356764131] \n",
      " Average score for 5 Neighbors: -0.022533727146031836 \n",
      "\n",
      "6 Neighbors scores: [0.02212216940282008, 0.13895653247086814, -0.11620092083625666, -0.15317237862092092, 0.13518282531630632] \n",
      " Average score for 6 Neighbors: 0.005377645546563392 \n",
      "\n",
      "7 Neighbors scores: [0.03058080799068541, 0.13626805768723527, -0.0869723550114947, -0.12724730484362134, 0.13437750044746288] \n",
      " Average score for 7 Neighbors: 0.017401341254053505 \n",
      "\n",
      "8 Neighbors scores: [0.03299580192588669, 0.15291557497800368, -0.05229780319344357, -0.10613676299332542, 0.12152210749208503] \n",
      " Average score for 8 Neighbors: 0.02979978364184128 \n",
      "\n",
      "9 Neighbors scores: [0.02942201177694903, 0.16257574592647983, -0.027740373423480014, -0.05453387717350955, 0.13556410290705523] \n",
      " Average score for 9 Neighbors: 0.0490575220026989 \n",
      "\n",
      "10 Neighbors scores: [0.0669323920475633, 0.19005336634157177, -0.010442049685960741, -0.059408439046448436, 0.16524310045608137] \n",
      " Average score for 10 Neighbors: 0.07047567402256145 \n",
      "\n",
      "11 Neighbors scores: [0.068688519215938, 0.1894336167018793, 0.008548408725457257, -0.05263197097996808, 0.2162793358368379] \n",
      " Average score for 11 Neighbors: 0.08606358190002887 \n",
      "\n",
      "12 Neighbors scores: [0.07052524732058685, 0.19003915492514067, 0.015654880563367612, -0.00914698098873079, 0.21354878247817777] \n",
      " Average score for 12 Neighbors: 0.09612421685970843 \n",
      "\n",
      "13 Neighbors scores: [0.08054996997505193, 0.180406632147448, 0.01959010537413619, 0.00381870958944186, 0.18706422053798344] \n",
      " Average score for 13 Neighbors: 0.09428592752481228 \n",
      "\n",
      "14 Neighbors scores: [0.07907200329124309, 0.1785630081024343, 0.025972061472055885, 0.015583322649519227, 0.18352322129771503] \n",
      " Average score for 14 Neighbors: 0.09654272336259351 \n",
      "\n",
      "15 Neighbors scores: [0.07584159676421443, 0.17527988553707619, 0.03381261814996994, 0.011970465178766987, 0.1790620232109823] \n",
      " Average score for 15 Neighbors: 0.09519331776820197 \n",
      "\n",
      "16 Neighbors scores: [0.07832538294765834, 0.16968354817503717, 0.03329195430639098, 0.014476486550187517, 0.17978806654381685] \n",
      " Average score for 16 Neighbors: 0.09511308770461817 \n",
      "\n",
      "17 Neighbors scores: [0.07851067144307022, 0.16654400199802233, 0.0403442013542602, 0.023936513437965767, 0.17345055693573241] \n",
      " Average score for 17 Neighbors: 0.09655718903381019 \n",
      "\n",
      "18 Neighbors scores: [0.0823853811925862, 0.16269972325411264, 0.0465757463297829, 0.02057107641430589, 0.19507742367281888] \n",
      " Average score for 18 Neighbors: 0.1014618701727213 \n",
      "\n",
      "19 Neighbors scores: [0.07954291133147662, 0.16109007563211752, 0.04811675188051434, 0.020158287330566682, 0.19382464486934547] \n",
      " Average score for 19 Neighbors: 0.10054653420880413 \n",
      "\n"
     ]
    }
   ],
   "source": [
    "# Removing rows which have no CULL data to use this as a feature\n",
    "train_for_cull = train.dropna(axis = 0, subset = [\"CULL_pre_burn\", \"CULL_post_burn\"])\n",
    "\n",
    "splits = 5\n",
    "kfold = KFold(splits, random_state=216, shuffle=True)\n",
    "# indicator_features = [\"CULL_pre_burn\", \"DIA_pre_burn\", \"HT_pre_burn\", \"DRYBIO_AG_pre_burn\",\n",
    "#                       \"ELEV\", \"SOFTWOOD\", \"YRS_SINCE_BURN\", \"NUM_BURNS\", \"BURN_AREA_TOTAL\"]\n",
    "indicator_features = [\"CULL_pre_burn\", \"DRYBIO_AG_pre_burn\", \"ELEV\", \"SOFTWOOD\", \"YRS_SINCE_BURN\", \"BURN_AREA_TOTAL\"]\n",
    "\n",
    "\n",
    "for k in range(2,20):\n",
    "    regressor_pipe = Pipeline([(\"Scaler\", StandardScaler()), \n",
    "                                (\"KNN Regressor\", KNeighborsRegressor(n_neighbors=k))])\n",
    "    \n",
    "    score_list = []\n",
    "    for i, (train_index, test_index) in enumerate(kfold.split(train_for_cull[indicator_features],train_for_cull[\"CULL_post_burn\"])):\n",
    "        t_train = train_for_cull.iloc[train_index]\n",
    "        t_val = train_for_cull.iloc[test_index]\n",
    "\n",
    "        regressor_pipe.fit(t_train[indicator_features], t_train[\"CULL_post_burn\"])\n",
    "        score_list.append(regressor_pipe.score(t_val[indicator_features],t_val[\"CULL_post_burn\"]))\n",
    "    \n",
    "    print(f\"{k} Neighbors scores: {score_list} \\n Average score for {k} Neighbors: {sum(score_list)/len(score_list)} \\n\")"
   ]
  },
  {
   "cell_type": "markdown",
   "metadata": {},
   "source": [
    "From sklearn's documentation: \"The best possible score is 1.0 and it can be negative (because the model can be arbitrarily worse). A constant model that always predicts the expected value of y, disregarding the input features, would get a R^2 score of 0.0.\"\n",
    "\n",
    "Noteworthy scores:\n",
    "- Almost all scores I calculated were under 0.1. This indicates KNN is not a very effective method of predicting CULL.\n",
    "- .083 using all features, 17 neighbors\n",
    "- .082 using [\"CULL_pre_burn\", \"ELEV\", \"SOFTWOOD\", \"YRS_SINCE_BURN\", \"BURN_AREA_TOTAL\"], 17 neighbors\n",
    "    - adding in DIA or HT made it worse\n",
    "- .101 using [\"CULL_pre_burn\", \"DRYBIO_AG_pre_burn\", \"ELEV\", \"SOFTWOOD\", \"YRS_SINCE_BURN\", \"BURN_AREA_TOTAL\"] and 18 neighbors\n",
    "\n",
    "At least it's doing better than the mean regressor since it's consistently over 0. This may be a difficult task because so many entries in the CULL field are 0, even after burn. See below:"
   ]
  },
  {
   "cell_type": "code",
   "execution_count": null,
   "metadata": {},
   "outputs": [
    {
     "data": {
      "text/plain": [
       "CULL_post_burn\n",
       "0.0     0.871755\n",
       "1.0     0.047221\n",
       "2.0     0.013765\n",
       "3.0     0.005576\n",
       "4.0     0.001742\n",
       "5.0     0.022129\n",
       "6.0     0.001220\n",
       "7.0     0.001220\n",
       "8.0     0.001568\n",
       "9.0     0.000174\n",
       "10.0    0.009061\n",
       "12.0    0.000523\n",
       "15.0    0.006447\n",
       "16.0    0.000174\n",
       "18.0    0.000523\n",
       "19.0    0.000174\n",
       "20.0    0.004356\n",
       "22.0    0.000174\n",
       "25.0    0.002788\n",
       "30.0    0.002614\n",
       "35.0    0.000871\n",
       "40.0    0.000871\n",
       "45.0    0.000348\n",
       "50.0    0.000697\n",
       "55.0    0.000348\n",
       "60.0    0.000523\n",
       "65.0    0.000174\n",
       "80.0    0.000523\n",
       "90.0    0.000697\n",
       "95.0    0.000523\n",
       "99.0    0.001220\n",
       "Name: proportion, dtype: float64"
      ]
     },
     "metadata": {},
     "output_type": "display_data"
    }
   ],
   "source": [
    "train_for_cull[\"CULL_post_burn\"].value_counts(normalize = True).sort_index()"
   ]
  },
  {
   "cell_type": "markdown",
   "metadata": {},
   "source": [
    "Human bias may be playing a part; there's a pronounced tendency towards values that are multiples of 5. The database documentation doesn't have much detail about *how* field crews estimate it, either."
   ]
  }
 ],
 "metadata": {
  "language_info": {
   "name": "python"
  }
 },
 "nbformat": 4,
 "nbformat_minor": 2
}
