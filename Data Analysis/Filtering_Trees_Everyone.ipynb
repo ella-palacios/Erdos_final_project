{
 "cells": [
  {
   "cell_type": "markdown",
   "metadata": {},
   "source": [
    "# FILTERING#\n",
    "Here I am filtering for the plots that burned and have the specific measurement condition that they were measured on either side of a fire.  "
   ]
  },
  {
   "cell_type": "markdown",
   "metadata": {},
   "source": [
    "#### What I have done here:\n",
    "- Using WA_FIRE_PLOT_PAIRS, which was created in QGIS and contains all plots/fire pairs, I filter TREE by keeping rows with 'PLOT' that appear in WA_FIRE_PLOT_PAIRS.\n",
    "    - **Note that this filtering is wrong right now because PLOT is not the unique indentifier.  Instead use a combination of PLOT, COUNTYCD, UNITCD, and STATECD** (STATECD unecessary in our case).  \n",
    "\n",
    "- Then I add to WA_FIRE_PLOT_PAIRS the measurement years of those plots- this is done correctly as I use PLOT, COUNTYCD, UNITCD.  \n",
    "- Now I can filter FIREPLOTS_MEAS (the plot/fire pairs with measurement years added) to only keep those that burned inbetween the measurement years.  \n",
    "- **The final set FIREPLOTS_FIRE_SANDWICH only has these plot/fire pairs with burns inbetween measurements**\n",
    "\n",
    "- **Now we need to see how many trees fall into these plots.** "
   ]
  },
  {
   "cell_type": "code",
   "execution_count": 1,
   "metadata": {},
   "outputs": [],
   "source": [
    "import numpy as np\n",
    "import pandas as pd\n",
    "import matplotlib.pyplot as plt\n",
    "import plotly.express as px\n",
    "import seaborn as sns\n",
    "sns.set_style(\"whitegrid\")"
   ]
  },
  {
   "cell_type": "markdown",
   "metadata": {},
   "source": [
    "Remember to unzip WA_TREE.csv.zip"
   ]
  },
  {
   "cell_type": "code",
   "execution_count": 34,
   "metadata": {},
   "outputs": [
    {
     "name": "stderr",
     "output_type": "stream",
     "text": [
      "/var/folders/mm/t_p68_6506v3jg0m1f58zkv40000gn/T/ipykernel_50410/2301810624.py:1: DtypeWarning: Columns (77,159) have mixed types. Specify dtype option on import or set low_memory=False.\n",
      "  TREE = pd.read_csv('/Users/henrycladouhos/Desktop/WA_TREE.csv')\n"
     ]
    },
    {
     "name": "stdout",
     "output_type": "stream",
     "text": [
      "504956\n"
     ]
    },
    {
     "data": {
      "text/plain": [
       "Index(['CN', 'PLT_CN', 'PREV_TRE_CN', 'INVYR', 'STATECD', 'UNITCD', 'COUNTYCD',\n",
       "       'PLOT', 'SUBP', 'TREE',\n",
       "       ...\n",
       "       'VOLCSNET_BARK', 'DRYBIO_STEM', 'DRYBIO_STEM_BARK', 'DRYBIO_STUMP_BARK',\n",
       "       'DRYBIO_BOLE_BARK', 'DRYBIO_BRANCH', 'DRYBIO_FOLIAGE',\n",
       "       'DRYBIO_SAWLOG_BARK', 'PREV_ACTUALHT_FLD', 'PREV_HT_FLD'],\n",
       "      dtype='object', length=197)"
      ]
     },
     "execution_count": 34,
     "metadata": {},
     "output_type": "execute_result"
    }
   ],
   "source": [
    "TREE = pd.read_csv('/Users/henrycladouhos/Desktop/WA_TREE.csv')\n",
    "print(len(TREE))\n",
    "TREE.columns"
   ]
  },
  {
   "cell_type": "markdown",
   "metadata": {},
   "source": []
  },
  {
   "cell_type": "markdown",
   "metadata": {},
   "source": [
    "$N = 504,956$ \n",
    "- Now we can remove trees that are in plots that have not burned in the last 24 years.  \n",
    "- To do this I will use **PLOT_FIRES_GIS**, which was created by intersecting the last 24 years of fire data from the NIFC with our plot latitude and longitude.  *We are introducing our first uncertainty here- the plot latitude and longitude have been 'fuzzed'.*"
   ]
  },
  {
   "cell_type": "code",
   "execution_count": 35,
   "metadata": {},
   "outputs": [
    {
     "name": "stdout",
     "output_type": "stream",
     "text": [
      "7177\n",
      "Index(['CN', 'SRV_CN', 'CTY_CN', 'PREV_PLT_CN', 'INVYR', 'STATECD', 'UNITCD',\n",
      "       'COUNTYCD', 'PLOT', 'PLOT_STATUS_CD', 'PLOT_NONSAMPLE_REASN_CD',\n",
      "       'MEASYEAR', 'MEASMON', 'MEASDAY', 'REMPER', 'KINDCD', 'DESIGNCD',\n",
      "       'RDDISTCD', 'WATERCD', 'LAT', 'LON', 'ELEV', 'GROW_TYP_CD',\n",
      "       'MORT_TYP_CD', 'P2PANEL', 'P3PANEL', 'ECOSUBCD', 'CONGCD', 'MANUAL',\n",
      "       'KINDCD_NC', 'QA_STATUS', 'CREATED_DATE', 'MODIFIED_DATE',\n",
      "       'MICROPLOT_LOC', 'DECLINATION', 'EMAP_HEX', 'SAMP_METHOD_CD',\n",
      "       'SUBP_EXAMINE_CD', 'MACRO_BREAKPOINT_DIA', 'INTENSITY', 'CYCLE',\n",
      "       'SUBCYCLE', 'ECO_UNIT_PNW', 'TOPO_POSITION_PNW',\n",
      "       'NF_SAMPLING_STATUS_CD', 'NF_PLOT_STATUS_CD',\n",
      "       'NF_PLOT_NONSAMPLE_REASN_CD', 'P2VEG_SAMPLING_STATUS_CD',\n",
      "       'P2VEG_SAMPLING_LEVEL_DETAIL_CD', 'INVASIVE_SAMPLING_STATUS_CD',\n",
      "       'INVASIVE_SPECIMEN_RULE_CD', 'DESIGNCD_P2A', 'MANUAL_DB', 'SUBPANEL',\n",
      "       'CONDCHNGCD_RMRS', 'FUTFORCD_RMRS', 'MANUAL_NCRS', 'MANUAL_NERS',\n",
      "       'MANUAL_RMRS', 'PAC_ISLAND_PNWRS', 'PLOT_SEASON_NERS', 'PRECIPITATION',\n",
      "       'PREV_MICROPLOT_LOC_RMRS', 'PREV_PLOT_STATUS_CD_RMRS', 'REUSECD1',\n",
      "       'REUSECD2', 'REUSECD3', 'GRND_LYR_SAMPLING_STATUS_CD',\n",
      "       'GRND_LYR_SAMPLING_METHOD_CD', 'IRWINID', 'FIRE_YEAR', 'INCIDENT',\n",
      "       'GIS_ACRES'],\n",
      "      dtype='object')\n"
     ]
    }
   ],
   "source": [
    "FIREPLOTS = pd.read_csv('../Data/WA_PLOT_FIRE_PAIRS.csv')\n",
    "print(len(FIREPLOTS))\n",
    "print(FIREPLOTS.columns)\n"
   ]
  },
  {
   "cell_type": "markdown",
   "metadata": {},
   "source": [
    "**There are 7177 plots*fire pairs that have burned in the last 24 years.**\n",
    "- Now we filter TREE by using these plots.  "
   ]
  },
  {
   "cell_type": "code",
   "execution_count": 36,
   "metadata": {},
   "outputs": [
    {
     "data": {
      "text/plain": [
       "128183"
      ]
     },
     "execution_count": 36,
     "metadata": {},
     "output_type": "execute_result"
    }
   ],
   "source": [
    "TREE_IN_BURNED_PLOTS = TREE[TREE['PLOT'].isin(FIREPLOTS['PLOT'])]\n",
    "len(TREE_IN_BURNED_PLOTS)"
   ]
  },
  {
   "cell_type": "markdown",
   "metadata": {},
   "source": [
    "$N = 128,183$\n",
    "- This is still a lot of trees that appear in plots that have burned.  \n",
    "- Now we need to filter for PLOTs that have been measured on either side of a burn\n",
    "    - These measurements years are shown in the **WA_PLOT.csv** dataset in the *MEASYEAR* column\n",
    "\n",
    "- **PLOT_FIRES_GIS** contains fire, plot pairs.  \n",
    "    - Lets go through these pairs, referencing WA_PLOT to check if the measurement years are on either side of the fire year\n",
    "        - This will filter **PLOT_FIRES_GIS** and will add the 2 years measured as columns to **PLOT_FIRES_GIS**."
   ]
  },
  {
   "cell_type": "code",
   "execution_count": 37,
   "metadata": {},
   "outputs": [
    {
     "data": {
      "text/plain": [
       "Index(['CN', 'SRV_CN', 'CTY_CN', 'PREV_PLT_CN', 'INVYR', 'STATECD', 'UNITCD',\n",
       "       'COUNTYCD', 'PLOT', 'PLOT_STATUS_CD', 'PLOT_NONSAMPLE_REASN_CD',\n",
       "       'MEASYEAR', 'MEASMON', 'MEASDAY', 'REMPER', 'KINDCD', 'DESIGNCD',\n",
       "       'RDDISTCD', 'WATERCD', 'LAT', 'LON', 'ELEV', 'GROW_TYP_CD',\n",
       "       'MORT_TYP_CD', 'P2PANEL', 'P3PANEL', 'ECOSUBCD', 'CONGCD', 'MANUAL',\n",
       "       'KINDCD_NC', 'QA_STATUS', 'CREATED_DATE', 'MODIFIED_DATE',\n",
       "       'MICROPLOT_LOC', 'DECLINATION', 'EMAP_HEX', 'SAMP_METHOD_CD',\n",
       "       'SUBP_EXAMINE_CD', 'MACRO_BREAKPOINT_DIA', 'INTENSITY', 'CYCLE',\n",
       "       'SUBCYCLE', 'ECO_UNIT_PNW', 'TOPO_POSITION_PNW',\n",
       "       'NF_SAMPLING_STATUS_CD', 'NF_PLOT_STATUS_CD',\n",
       "       'NF_PLOT_NONSAMPLE_REASN_CD', 'P2VEG_SAMPLING_STATUS_CD',\n",
       "       'P2VEG_SAMPLING_LEVEL_DETAIL_CD', 'INVASIVE_SAMPLING_STATUS_CD',\n",
       "       'INVASIVE_SPECIMEN_RULE_CD', 'DESIGNCD_P2A', 'MANUAL_DB', 'SUBPANEL',\n",
       "       'CONDCHNGCD_RMRS', 'FUTFORCD_RMRS', 'MANUAL_NCRS', 'MANUAL_NERS',\n",
       "       'MANUAL_RMRS', 'PAC_ISLAND_PNWRS', 'PLOT_SEASON_NERS', 'PRECIPITATION',\n",
       "       'PREV_MICROPLOT_LOC_RMRS', 'PREV_PLOT_STATUS_CD_RMRS', 'REUSECD1',\n",
       "       'REUSECD2', 'REUSECD3', 'GRND_LYR_SAMPLING_STATUS_CD',\n",
       "       'GRND_LYR_SAMPLING_METHOD_CD'],\n",
       "      dtype='object')"
      ]
     },
     "execution_count": 37,
     "metadata": {},
     "output_type": "execute_result"
    }
   ],
   "source": [
    "PLOTS = pd.read_csv('../Data/WA_PLOT.csv')\n",
    "PLOTS.columns"
   ]
  },
  {
   "cell_type": "code",
   "execution_count": 38,
   "metadata": {},
   "outputs": [
    {
     "data": {
      "text/html": [
       "<div>\n",
       "<style scoped>\n",
       "    .dataframe tbody tr th:only-of-type {\n",
       "        vertical-align: middle;\n",
       "    }\n",
       "\n",
       "    .dataframe tbody tr th {\n",
       "        vertical-align: top;\n",
       "    }\n",
       "\n",
       "    .dataframe thead th {\n",
       "        text-align: right;\n",
       "    }\n",
       "</style>\n",
       "<table border=\"1\" class=\"dataframe\">\n",
       "  <thead>\n",
       "    <tr style=\"text-align: right;\">\n",
       "      <th></th>\n",
       "      <th>CN</th>\n",
       "      <th>SRV_CN</th>\n",
       "      <th>CTY_CN</th>\n",
       "      <th>PREV_PLT_CN</th>\n",
       "      <th>INVYR</th>\n",
       "      <th>STATECD</th>\n",
       "      <th>UNITCD</th>\n",
       "      <th>COUNTYCD</th>\n",
       "      <th>PLOT</th>\n",
       "      <th>PLOT_STATUS_CD</th>\n",
       "      <th>...</th>\n",
       "      <th>PREV_PLOT_STATUS_CD_RMRS</th>\n",
       "      <th>REUSECD1</th>\n",
       "      <th>REUSECD2</th>\n",
       "      <th>REUSECD3</th>\n",
       "      <th>GRND_LYR_SAMPLING_STATUS_CD</th>\n",
       "      <th>GRND_LYR_SAMPLING_METHOD_CD</th>\n",
       "      <th>IRWINID</th>\n",
       "      <th>FIRE_YEAR</th>\n",
       "      <th>INCIDENT</th>\n",
       "      <th>GIS_ACRES</th>\n",
       "    </tr>\n",
       "  </thead>\n",
       "  <tbody>\n",
       "    <tr>\n",
       "      <th>4848</th>\n",
       "      <td>490387999126144</td>\n",
       "      <td>468688377489998</td>\n",
       "      <td>82010497</td>\n",
       "      <td>2.939567e+13</td>\n",
       "      <td>2018</td>\n",
       "      <td>53</td>\n",
       "      <td>8</td>\n",
       "      <td>7</td>\n",
       "      <td>98964</td>\n",
       "      <td>1</td>\n",
       "      <td>...</td>\n",
       "      <td>NaN</td>\n",
       "      <td>NaN</td>\n",
       "      <td>NaN</td>\n",
       "      <td>NaN</td>\n",
       "      <td>NaN</td>\n",
       "      <td>NaN</td>\n",
       "      <td>NaN</td>\n",
       "      <td>1988</td>\n",
       "      <td>Dinkelman</td>\n",
       "      <td>51439.34</td>\n",
       "    </tr>\n",
       "    <tr>\n",
       "      <th>4854</th>\n",
       "      <td>484819293489998</td>\n",
       "      <td>468963851489998</td>\n",
       "      <td>92010497</td>\n",
       "      <td>2.293322e+13</td>\n",
       "      <td>2018</td>\n",
       "      <td>53</td>\n",
       "      <td>8</td>\n",
       "      <td>47</td>\n",
       "      <td>93966</td>\n",
       "      <td>1</td>\n",
       "      <td>...</td>\n",
       "      <td>NaN</td>\n",
       "      <td>NaN</td>\n",
       "      <td>NaN</td>\n",
       "      <td>NaN</td>\n",
       "      <td>NaN</td>\n",
       "      <td>NaN</td>\n",
       "      <td>NaN</td>\n",
       "      <td>1919</td>\n",
       "      <td>Foggy Dew</td>\n",
       "      <td>5950.18</td>\n",
       "    </tr>\n",
       "    <tr>\n",
       "      <th>1108</th>\n",
       "      <td>23991</td>\n",
       "      <td>153648002020004</td>\n",
       "      <td>83010497</td>\n",
       "      <td>NaN</td>\n",
       "      <td>2001</td>\n",
       "      <td>53</td>\n",
       "      <td>9</td>\n",
       "      <td>13</td>\n",
       "      <td>5</td>\n",
       "      <td>2</td>\n",
       "      <td>...</td>\n",
       "      <td>NaN</td>\n",
       "      <td>NaN</td>\n",
       "      <td>NaN</td>\n",
       "      <td>NaN</td>\n",
       "      <td>NaN</td>\n",
       "      <td>NaN</td>\n",
       "      <td>NaN</td>\n",
       "      <td>2006</td>\n",
       "      <td>Columbia Complex</td>\n",
       "      <td>109259.00</td>\n",
       "    </tr>\n",
       "  </tbody>\n",
       "</table>\n",
       "<p>3 rows × 73 columns</p>\n",
       "</div>"
      ],
      "text/plain": [
       "                   CN           SRV_CN    CTY_CN   PREV_PLT_CN  INVYR  \\\n",
       "4848  490387999126144  468688377489998  82010497  2.939567e+13   2018   \n",
       "4854  484819293489998  468963851489998  92010497  2.293322e+13   2018   \n",
       "1108            23991  153648002020004  83010497           NaN   2001   \n",
       "\n",
       "      STATECD  UNITCD  COUNTYCD   PLOT  PLOT_STATUS_CD  ...  \\\n",
       "4848       53       8         7  98964               1  ...   \n",
       "4854       53       8        47  93966               1  ...   \n",
       "1108       53       9        13      5               2  ...   \n",
       "\n",
       "      PREV_PLOT_STATUS_CD_RMRS  REUSECD1  REUSECD2  REUSECD3  \\\n",
       "4848                       NaN       NaN       NaN       NaN   \n",
       "4854                       NaN       NaN       NaN       NaN   \n",
       "1108                       NaN       NaN       NaN       NaN   \n",
       "\n",
       "      GRND_LYR_SAMPLING_STATUS_CD  GRND_LYR_SAMPLING_METHOD_CD  IRWINID  \\\n",
       "4848                          NaN                          NaN      NaN   \n",
       "4854                          NaN                          NaN      NaN   \n",
       "1108                          NaN                          NaN      NaN   \n",
       "\n",
       "      FIRE_YEAR          INCIDENT  GIS_ACRES  \n",
       "4848       1988         Dinkelman   51439.34  \n",
       "4854       1919         Foggy Dew    5950.18  \n",
       "1108       2006  Columbia Complex  109259.00  \n",
       "\n",
       "[3 rows x 73 columns]"
      ]
     },
     "execution_count": 38,
     "metadata": {},
     "output_type": "execute_result"
    }
   ],
   "source": [
    "FIREPLOTS.sample(3)"
   ]
  },
  {
   "cell_type": "code",
   "execution_count": 75,
   "metadata": {},
   "outputs": [],
   "source": [
    "FIREPLOTS_MEAS = FIREPLOTS.copy()\n",
    "FIREPLOTS_MEAS['MEASYEAR1'] = None\n",
    "FIREPLOTS_MEAS['MEASYEAR2'] = None\n",
    "# This will just add MEASYEAR1 and MEASYEAR2\n",
    "#After we will filter for rows where the fire occurs in between\n",
    "nums_of_measurements = np.zeros(len(FIREPLOTS))\n",
    "for index,row in FIREPLOTS_MEAS.iterrows():\n",
    "    plot = row['PLOT']\n",
    "    unitcd = row['UNITCD']\n",
    "    countycd = row['COUNTYCD']\n",
    "    \n",
    "    uniqueplot = PLOTS[(PLOTS['PLOT']==plot) & (PLOTS['UNITCD'] == unitcd) & (PLOTS['COUNTYCD']==countycd)]\n",
    "    if len(uniqueplot) >= 2:\n",
    "        FIREPLOTS_MEAS.at[index,'MEASYEAR1'] = min(uniqueplot.MEASYEAR)\n",
    "        FIREPLOTS_MEAS.at[index,'MEASYEAR2'] = max(uniqueplot.MEASYEAR)\n",
    "\n",
    "FIREPLOTS_MEAS = FIREPLOTS_MEAS.dropna(subset = ['MEASYEAR1','MEASYEAR2'])"
   ]
  },
  {
   "cell_type": "code",
   "execution_count": 76,
   "metadata": {},
   "outputs": [
    {
     "name": "stdout",
     "output_type": "stream",
     "text": [
      "1978\n",
      "579\n"
     ]
    }
   ],
   "source": [
    "FIREPLOTS_FIRE_SANDWICH = FIREPLOTS_MEAS[(FIREPLOTS_MEAS['FIRE_YEAR']>FIREPLOTS_MEAS['MEASYEAR1']) & (FIREPLOTS_MEAS['FIRE_YEAR']<FIREPLOTS_MEAS['MEASYEAR2'])]\n",
    "print(len(FIREPLOTS_FIRE_SANDWICH))\n",
    "print(FIREPLOTS_FIRE_SANDWICH['PLOT'].nunique())"
   ]
  },
  {
   "cell_type": "markdown",
   "metadata": {},
   "source": [
    "**IF** I have done this properly there are 1729 fire, plot pairs that are sandwiched between two measurements.  These pairs are on 539 plots.  \\\n",
    "Let me check a couple rows.."
   ]
  },
  {
   "cell_type": "code",
   "execution_count": 78,
   "metadata": {},
   "outputs": [
    {
     "data": {
      "text/html": [
       "<div>\n",
       "<style scoped>\n",
       "    .dataframe tbody tr th:only-of-type {\n",
       "        vertical-align: middle;\n",
       "    }\n",
       "\n",
       "    .dataframe tbody tr th {\n",
       "        vertical-align: top;\n",
       "    }\n",
       "\n",
       "    .dataframe thead th {\n",
       "        text-align: right;\n",
       "    }\n",
       "</style>\n",
       "<table border=\"1\" class=\"dataframe\">\n",
       "  <thead>\n",
       "    <tr style=\"text-align: right;\">\n",
       "      <th></th>\n",
       "      <th>MEASYEAR1</th>\n",
       "      <th>FIRE_YEAR</th>\n",
       "      <th>MEASYEAR2</th>\n",
       "    </tr>\n",
       "  </thead>\n",
       "  <tbody>\n",
       "    <tr>\n",
       "      <th>3718</th>\n",
       "      <td>2008</td>\n",
       "      <td>2017</td>\n",
       "      <td>2018</td>\n",
       "    </tr>\n",
       "    <tr>\n",
       "      <th>2484</th>\n",
       "      <td>2011</td>\n",
       "      <td>2015</td>\n",
       "      <td>2021</td>\n",
       "    </tr>\n",
       "    <tr>\n",
       "      <th>4280</th>\n",
       "      <td>2003</td>\n",
       "      <td>2012</td>\n",
       "      <td>2013</td>\n",
       "    </tr>\n",
       "    <tr>\n",
       "      <th>2286</th>\n",
       "      <td>2006</td>\n",
       "      <td>2014</td>\n",
       "      <td>2016</td>\n",
       "    </tr>\n",
       "    <tr>\n",
       "      <th>950</th>\n",
       "      <td>2009</td>\n",
       "      <td>2012</td>\n",
       "      <td>2019</td>\n",
       "    </tr>\n",
       "    <tr>\n",
       "      <th>324</th>\n",
       "      <td>2008</td>\n",
       "      <td>2016</td>\n",
       "      <td>2018</td>\n",
       "    </tr>\n",
       "    <tr>\n",
       "      <th>961</th>\n",
       "      <td>2009</td>\n",
       "      <td>2010</td>\n",
       "      <td>2019</td>\n",
       "    </tr>\n",
       "    <tr>\n",
       "      <th>229</th>\n",
       "      <td>2007</td>\n",
       "      <td>2016</td>\n",
       "      <td>2017</td>\n",
       "    </tr>\n",
       "    <tr>\n",
       "      <th>2535</th>\n",
       "      <td>2009</td>\n",
       "      <td>2015</td>\n",
       "      <td>2019</td>\n",
       "    </tr>\n",
       "    <tr>\n",
       "      <th>1366</th>\n",
       "      <td>2011</td>\n",
       "      <td>2015</td>\n",
       "      <td>2021</td>\n",
       "    </tr>\n",
       "  </tbody>\n",
       "</table>\n",
       "</div>"
      ],
      "text/plain": [
       "     MEASYEAR1  FIRE_YEAR MEASYEAR2\n",
       "3718      2008       2017      2018\n",
       "2484      2011       2015      2021\n",
       "4280      2003       2012      2013\n",
       "2286      2006       2014      2016\n",
       "950       2009       2012      2019\n",
       "324       2008       2016      2018\n",
       "961       2009       2010      2019\n",
       "229       2007       2016      2017\n",
       "2535      2009       2015      2019\n",
       "1366      2011       2015      2021"
      ]
     },
     "execution_count": 78,
     "metadata": {},
     "output_type": "execute_result"
    }
   ],
   "source": [
    "FIREPLOTS_FIRE_SANDWICH[['MEASYEAR1','FIRE_YEAR','MEASYEAR2']].sample(10)"
   ]
  },
  {
   "cell_type": "markdown",
   "metadata": {},
   "source": [
    "**BANG!** \\\n",
    "Look at how those fires are sandwiched\n",
    "\n",
    "OK.\n",
    "\n",
    "I am claiming that we use this **FIREPLOTS_FIRE_SANDWICH** dataset to filter our trees.  This will give us our final dataset.  \n",
    "\n",
    "PLEASE double check my work and logic behind the filtering.  "
   ]
  },
  {
   "cell_type": "markdown",
   "metadata": {},
   "source": [
    "#### Lets see how many trees fall into these plots that have this measurement structure.  \n",
    "- First I make a new column in **FIREPLOTS_FIRE_SANDWICH** and **TREE** which is just a concatenation of *UNITCD,COUNTYCD, and PLOT*.  IN THIS ORDER!\n",
    "- The combination of these three columns is called 'UNIQUE_PLOT_ID'."
   ]
  },
  {
   "cell_type": "code",
   "execution_count": 77,
   "metadata": {},
   "outputs": [
    {
     "name": "stderr",
     "output_type": "stream",
     "text": [
      "/var/folders/mm/t_p68_6506v3jg0m1f58zkv40000gn/T/ipykernel_50410/2003518706.py:1: SettingWithCopyWarning: \n",
      "A value is trying to be set on a copy of a slice from a DataFrame.\n",
      "Try using .loc[row_indexer,col_indexer] = value instead\n",
      "\n",
      "See the caveats in the documentation: https://pandas.pydata.org/pandas-docs/stable/user_guide/indexing.html#returning-a-view-versus-a-copy\n",
      "  FIREPLOTS_FIRE_SANDWICH['UNIQUE_PLOT_ID'] =FIREPLOTS_FIRE_SANDWICH['UNITCD'].astype(str)+' '+FIREPLOTS_FIRE_SANDWICH['COUNTYCD'].astype(str)+' '+FIREPLOTS_FIRE_SANDWICH['PLOT'].astype(str)\n"
     ]
    },
    {
     "data": {
      "text/plain": [
       "579"
      ]
     },
     "execution_count": 77,
     "metadata": {},
     "output_type": "execute_result"
    }
   ],
   "source": [
    "FIREPLOTS_FIRE_SANDWICH['UNIQUE_PLOT_ID'] =FIREPLOTS_FIRE_SANDWICH['UNITCD'].astype(str)+' '+FIREPLOTS_FIRE_SANDWICH['COUNTYCD'].astype(str)+' '+FIREPLOTS_FIRE_SANDWICH['PLOT'].astype(str)\n",
    "TREE['UNIQUE_PLOT_ID'] = TREE['UNITCD'].astype(str)+' '+TREE['COUNTYCD'].astype(str)+' '+TREE['PLOT'].astype(str)\n",
    "\n",
    "FIREPLOTS_FIRE_SANDWICH['UNIQUE_PLOT_ID'].nunique()"
   ]
  },
  {
   "cell_type": "code",
   "execution_count": 71,
   "metadata": {},
   "outputs": [
    {
     "data": {
      "text/plain": [
       "25518"
      ]
     },
     "execution_count": 71,
     "metadata": {},
     "output_type": "execute_result"
    }
   ],
   "source": [
    "TREES_FOR_US = TREE[TREE['UNIQUE_PLOT_ID'].isin(FIREPLOTS_FIRE_SANDWICH['UNIQUE_PLOT_ID'])]\n",
    "len(TREES_FOR_US)"
   ]
  },
  {
   "cell_type": "markdown",
   "metadata": {},
   "source": [
    "$N=25518$ TREES!"
   ]
  }
 ],
 "metadata": {
  "kernelspec": {
   "display_name": "erdos_fall_2024",
   "language": "python",
   "name": "python3"
  },
  "language_info": {
   "codemirror_mode": {
    "name": "ipython",
    "version": 3
   },
   "file_extension": ".py",
   "mimetype": "text/x-python",
   "name": "python",
   "nbconvert_exporter": "python",
   "pygments_lexer": "ipython3",
   "version": "3.12.5"
  }
 },
 "nbformat": 4,
 "nbformat_minor": 2
}
