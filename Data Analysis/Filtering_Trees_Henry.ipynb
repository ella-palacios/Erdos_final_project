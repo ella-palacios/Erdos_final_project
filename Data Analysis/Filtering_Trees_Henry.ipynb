{
 "cells": [
  {
   "cell_type": "markdown",
   "metadata": {},
   "source": [
    "# FILTERING#\n",
    "Here I am filtering for the plots that burned and have the specific measurement condition that they were measured on either side of a fire.  "
   ]
  },
  {
   "cell_type": "markdown",
   "metadata": {},
   "source": [
    "#### What I have done here:\n",
    "- Using WA_FIRE_PLOT_PAIRS, which was created in QGIS and contains all plots/fire pairs, I filter TREE by keeping rows with 'PLOT' that appear in WA_FIRE_PLOT_PAIRS.\n",
    "    - **Note that this filtering is wrong right now because PLOT is not the unique indentifier.  Instead use a combination of PLOT, COUNTYCD, UNITCD, and STATECD** (STATECD unecessary in our case).  \n",
    "\n",
    "- Then I add to WA_FIRE_PLOT_PAIRS the measurement years of those plots- this is done correctly as I use PLOT, COUNTYCD, UNITCD.  \n",
    "- Now I can filter FIREPLOTS_MEAS (the plot/fire pairs with measurement years added) to only keep those that burned inbetween the measurement years.  \n",
    "- **The final set FIREPLOTS_FIRE_SANDWICH only has these plot/fire pairs with burns inbetween measurements**\n",
    "\n",
    "- **Now we need to see how many trees fall into these plots.** "
   ]
  },
  {
   "cell_type": "code",
   "execution_count": 1,
   "metadata": {},
   "outputs": [],
   "source": [
    "import numpy as np\n",
    "import pandas as pd\n",
    "import matplotlib.pyplot as plt\n",
    "import plotly.express as px\n",
    "import seaborn as sns\n",
    "sns.set_style(\"whitegrid\")"
   ]
  },
  {
   "cell_type": "markdown",
   "metadata": {},
   "source": [
    "Remember to unzip WA_TREE.csv.zip"
   ]
  },
  {
   "cell_type": "code",
   "execution_count": 2,
   "metadata": {},
   "outputs": [
    {
     "name": "stderr",
     "output_type": "stream",
     "text": [
      "/var/folders/mm/t_p68_6506v3jg0m1f58zkv40000gn/T/ipykernel_50410/2074286447.py:1: DtypeWarning: Columns (77,159) have mixed types. Specify dtype option on import or set low_memory=False.\n",
      "  TREE = pd.read_csv('../Data/WA_TREE.csv')\n"
     ]
    },
    {
     "name": "stdout",
     "output_type": "stream",
     "text": [
      "504956\n"
     ]
    },
    {
     "data": {
      "text/plain": [
       "Index(['CN', 'PLT_CN', 'PREV_TRE_CN', 'INVYR', 'STATECD', 'UNITCD', 'COUNTYCD',\n",
       "       'PLOT', 'SUBP', 'TREE',\n",
       "       ...\n",
       "       'VOLCSNET_BARK', 'DRYBIO_STEM', 'DRYBIO_STEM_BARK', 'DRYBIO_STUMP_BARK',\n",
       "       'DRYBIO_BOLE_BARK', 'DRYBIO_BRANCH', 'DRYBIO_FOLIAGE',\n",
       "       'DRYBIO_SAWLOG_BARK', 'PREV_ACTUALHT_FLD', 'PREV_HT_FLD'],\n",
       "      dtype='object', length=197)"
      ]
     },
     "execution_count": 2,
     "metadata": {},
     "output_type": "execute_result"
    }
   ],
   "source": [
    "TREE = pd.read_csv('../Data/WA_TREE.csv')\n",
    "print(len(TREE))\n",
    "TREE.columns"
   ]
  },
  {
   "cell_type": "markdown",
   "metadata": {},
   "source": [
    "$N = 504,956$ \n",
    "- Now we can remove trees that are in plots that have not burned in the last 24 years.  \n",
    "- To do this I will use **PLOT_FIRES_GIS**, which was created by intersecting the last 24 years of fire data from the NIFC with our plot latitude and longitude.  *We are introducing our first uncertainty here- the plot latitude and longitude have been 'fuzzed'.*"
   ]
  },
  {
   "cell_type": "code",
   "execution_count": 3,
   "metadata": {},
   "outputs": [
    {
     "name": "stdout",
     "output_type": "stream",
     "text": [
      "7177\n",
      "Index(['CN', 'SRV_CN', 'CTY_CN', 'PREV_PLT_CN', 'INVYR', 'STATECD', 'UNITCD',\n",
      "       'COUNTYCD', 'PLOT', 'PLOT_STATUS_CD', 'PLOT_NONSAMPLE_REASN_CD',\n",
      "       'MEASYEAR', 'MEASMON', 'MEASDAY', 'REMPER', 'KINDCD', 'DESIGNCD',\n",
      "       'RDDISTCD', 'WATERCD', 'LAT', 'LON', 'ELEV', 'GROW_TYP_CD',\n",
      "       'MORT_TYP_CD', 'P2PANEL', 'P3PANEL', 'ECOSUBCD', 'CONGCD', 'MANUAL',\n",
      "       'KINDCD_NC', 'QA_STATUS', 'CREATED_DATE', 'MODIFIED_DATE',\n",
      "       'MICROPLOT_LOC', 'DECLINATION', 'EMAP_HEX', 'SAMP_METHOD_CD',\n",
      "       'SUBP_EXAMINE_CD', 'MACRO_BREAKPOINT_DIA', 'INTENSITY', 'CYCLE',\n",
      "       'SUBCYCLE', 'ECO_UNIT_PNW', 'TOPO_POSITION_PNW',\n",
      "       'NF_SAMPLING_STATUS_CD', 'NF_PLOT_STATUS_CD',\n",
      "       'NF_PLOT_NONSAMPLE_REASN_CD', 'P2VEG_SAMPLING_STATUS_CD',\n",
      "       'P2VEG_SAMPLING_LEVEL_DETAIL_CD', 'INVASIVE_SAMPLING_STATUS_CD',\n",
      "       'INVASIVE_SPECIMEN_RULE_CD', 'DESIGNCD_P2A', 'MANUAL_DB', 'SUBPANEL',\n",
      "       'CONDCHNGCD_RMRS', 'FUTFORCD_RMRS', 'MANUAL_NCRS', 'MANUAL_NERS',\n",
      "       'MANUAL_RMRS', 'PAC_ISLAND_PNWRS', 'PLOT_SEASON_NERS', 'PRECIPITATION',\n",
      "       'PREV_MICROPLOT_LOC_RMRS', 'PREV_PLOT_STATUS_CD_RMRS', 'REUSECD1',\n",
      "       'REUSECD2', 'REUSECD3', 'GRND_LYR_SAMPLING_STATUS_CD',\n",
      "       'GRND_LYR_SAMPLING_METHOD_CD', 'IRWINID', 'FIRE_YEAR', 'INCIDENT',\n",
      "       'GIS_ACRES'],\n",
      "      dtype='object')\n"
     ]
    }
   ],
   "source": [
    "FIREPLOTS = pd.read_csv('../Data/WA_PLOT_FIRE_PAIRS.csv')\n",
    "print(len(FIREPLOTS))\n",
    "print(FIREPLOTS.columns)\n"
   ]
  },
  {
   "cell_type": "markdown",
   "metadata": {},
   "source": [
    "**There are 7177 plots*fire pairs that have burned in the last 24 years.**\n",
    "- Now we filter TREE by using these plots.  "
   ]
  },
  {
   "cell_type": "code",
   "execution_count": 4,
   "metadata": {},
   "outputs": [
    {
     "data": {
      "text/plain": [
       "128183"
      ]
     },
     "execution_count": 4,
     "metadata": {},
     "output_type": "execute_result"
    }
   ],
   "source": [
    "TREE_IN_BURNED_PLOTS = TREE[TREE['PLOT'].isin(FIREPLOTS['PLOT'])]\n",
    "len(TREE_IN_BURNED_PLOTS)"
   ]
  },
  {
   "cell_type": "markdown",
   "metadata": {},
   "source": [
    "$N = 128,183$\n",
    "- This is still a lot of trees that appear in plots that have burned.  \n",
    "- Now we need to filter for PLOTs that have been measured on either side of a burn\n",
    "    - These measurements years are shown in the **WA_PLOT.csv** dataset in the *MEASYEAR* column\n",
    "\n",
    "- **PLOT_FIRES_GIS** contains fire, plot pairs.  \n",
    "    - Lets go through these pairs, referencing WA_PLOT to check if the measurement years are on either side of the fire year\n",
    "        - This will filter **PLOT_FIRES_GIS** and will add the 2 years measured as columns to **PLOT_FIRES_GIS**."
   ]
  },
  {
   "cell_type": "code",
   "execution_count": 5,
   "metadata": {},
   "outputs": [
    {
     "data": {
      "text/plain": [
       "Index(['CN', 'SRV_CN', 'CTY_CN', 'PREV_PLT_CN', 'INVYR', 'STATECD', 'UNITCD',\n",
       "       'COUNTYCD', 'PLOT', 'PLOT_STATUS_CD', 'PLOT_NONSAMPLE_REASN_CD',\n",
       "       'MEASYEAR', 'MEASMON', 'MEASDAY', 'REMPER', 'KINDCD', 'DESIGNCD',\n",
       "       'RDDISTCD', 'WATERCD', 'LAT', 'LON', 'ELEV', 'GROW_TYP_CD',\n",
       "       'MORT_TYP_CD', 'P2PANEL', 'P3PANEL', 'ECOSUBCD', 'CONGCD', 'MANUAL',\n",
       "       'KINDCD_NC', 'QA_STATUS', 'CREATED_DATE', 'MODIFIED_DATE',\n",
       "       'MICROPLOT_LOC', 'DECLINATION', 'EMAP_HEX', 'SAMP_METHOD_CD',\n",
       "       'SUBP_EXAMINE_CD', 'MACRO_BREAKPOINT_DIA', 'INTENSITY', 'CYCLE',\n",
       "       'SUBCYCLE', 'ECO_UNIT_PNW', 'TOPO_POSITION_PNW',\n",
       "       'NF_SAMPLING_STATUS_CD', 'NF_PLOT_STATUS_CD',\n",
       "       'NF_PLOT_NONSAMPLE_REASN_CD', 'P2VEG_SAMPLING_STATUS_CD',\n",
       "       'P2VEG_SAMPLING_LEVEL_DETAIL_CD', 'INVASIVE_SAMPLING_STATUS_CD',\n",
       "       'INVASIVE_SPECIMEN_RULE_CD', 'DESIGNCD_P2A', 'MANUAL_DB', 'SUBPANEL',\n",
       "       'CONDCHNGCD_RMRS', 'FUTFORCD_RMRS', 'MANUAL_NCRS', 'MANUAL_NERS',\n",
       "       'MANUAL_RMRS', 'PAC_ISLAND_PNWRS', 'PLOT_SEASON_NERS', 'PRECIPITATION',\n",
       "       'PREV_MICROPLOT_LOC_RMRS', 'PREV_PLOT_STATUS_CD_RMRS', 'REUSECD1',\n",
       "       'REUSECD2', 'REUSECD3', 'GRND_LYR_SAMPLING_STATUS_CD',\n",
       "       'GRND_LYR_SAMPLING_METHOD_CD'],\n",
       "      dtype='object')"
      ]
     },
     "execution_count": 5,
     "metadata": {},
     "output_type": "execute_result"
    }
   ],
   "source": [
    "PLOTS = pd.read_csv('../Data/WA_PLOT.csv')\n",
    "PLOTS.columns"
   ]
  },
  {
   "cell_type": "code",
   "execution_count": 6,
   "metadata": {},
   "outputs": [
    {
     "data": {
      "text/html": [
       "<div>\n",
       "<style scoped>\n",
       "    .dataframe tbody tr th:only-of-type {\n",
       "        vertical-align: middle;\n",
       "    }\n",
       "\n",
       "    .dataframe tbody tr th {\n",
       "        vertical-align: top;\n",
       "    }\n",
       "\n",
       "    .dataframe thead th {\n",
       "        text-align: right;\n",
       "    }\n",
       "</style>\n",
       "<table border=\"1\" class=\"dataframe\">\n",
       "  <thead>\n",
       "    <tr style=\"text-align: right;\">\n",
       "      <th></th>\n",
       "      <th>CN</th>\n",
       "      <th>SRV_CN</th>\n",
       "      <th>CTY_CN</th>\n",
       "      <th>PREV_PLT_CN</th>\n",
       "      <th>INVYR</th>\n",
       "      <th>STATECD</th>\n",
       "      <th>UNITCD</th>\n",
       "      <th>COUNTYCD</th>\n",
       "      <th>PLOT</th>\n",
       "      <th>PLOT_STATUS_CD</th>\n",
       "      <th>...</th>\n",
       "      <th>PREV_PLOT_STATUS_CD_RMRS</th>\n",
       "      <th>REUSECD1</th>\n",
       "      <th>REUSECD2</th>\n",
       "      <th>REUSECD3</th>\n",
       "      <th>GRND_LYR_SAMPLING_STATUS_CD</th>\n",
       "      <th>GRND_LYR_SAMPLING_METHOD_CD</th>\n",
       "      <th>IRWINID</th>\n",
       "      <th>FIRE_YEAR</th>\n",
       "      <th>INCIDENT</th>\n",
       "      <th>GIS_ACRES</th>\n",
       "    </tr>\n",
       "  </thead>\n",
       "  <tbody>\n",
       "    <tr>\n",
       "      <th>6372</th>\n",
       "      <td>8652543010901</td>\n",
       "      <td>8601028010901</td>\n",
       "      <td>82010497</td>\n",
       "      <td>NaN</td>\n",
       "      <td>2006</td>\n",
       "      <td>53</td>\n",
       "      <td>8</td>\n",
       "      <td>7</td>\n",
       "      <td>55614</td>\n",
       "      <td>1</td>\n",
       "      <td>...</td>\n",
       "      <td>NaN</td>\n",
       "      <td>NaN</td>\n",
       "      <td>NaN</td>\n",
       "      <td>NaN</td>\n",
       "      <td>NaN</td>\n",
       "      <td>NaN</td>\n",
       "      <td>{AB4AB263-8BAD-418A-9CE9-E6EC8B8E59F5}</td>\n",
       "      <td>2017</td>\n",
       "      <td>UNO PEAK</td>\n",
       "      <td>8746.30</td>\n",
       "    </tr>\n",
       "    <tr>\n",
       "      <th>720</th>\n",
       "      <td>15342993010497</td>\n",
       "      <td>12963633010497</td>\n",
       "      <td>89010497</td>\n",
       "      <td>NaN</td>\n",
       "      <td>2005</td>\n",
       "      <td>53</td>\n",
       "      <td>8</td>\n",
       "      <td>37</td>\n",
       "      <td>74996</td>\n",
       "      <td>2</td>\n",
       "      <td>...</td>\n",
       "      <td>NaN</td>\n",
       "      <td>NaN</td>\n",
       "      <td>NaN</td>\n",
       "      <td>NaN</td>\n",
       "      <td>NaN</td>\n",
       "      <td>NaN</td>\n",
       "      <td>NaN</td>\n",
       "      <td>2013</td>\n",
       "      <td>Colockum Tarps</td>\n",
       "      <td>81513.99</td>\n",
       "    </tr>\n",
       "    <tr>\n",
       "      <th>4199</th>\n",
       "      <td>22398416010497</td>\n",
       "      <td>22132264010497</td>\n",
       "      <td>82010497</td>\n",
       "      <td>NaN</td>\n",
       "      <td>2003</td>\n",
       "      <td>53</td>\n",
       "      <td>8</td>\n",
       "      <td>7</td>\n",
       "      <td>70269</td>\n",
       "      <td>1</td>\n",
       "      <td>...</td>\n",
       "      <td>NaN</td>\n",
       "      <td>0.0</td>\n",
       "      <td>0.0</td>\n",
       "      <td>0.0</td>\n",
       "      <td>NaN</td>\n",
       "      <td>NaN</td>\n",
       "      <td>NaN</td>\n",
       "      <td>1994</td>\n",
       "      <td>Hatchery Creek</td>\n",
       "      <td>42173.50</td>\n",
       "    </tr>\n",
       "  </tbody>\n",
       "</table>\n",
       "<p>3 rows × 73 columns</p>\n",
       "</div>"
      ],
      "text/plain": [
       "                  CN          SRV_CN    CTY_CN  PREV_PLT_CN  INVYR  STATECD  \\\n",
       "6372   8652543010901   8601028010901  82010497          NaN   2006       53   \n",
       "720   15342993010497  12963633010497  89010497          NaN   2005       53   \n",
       "4199  22398416010497  22132264010497  82010497          NaN   2003       53   \n",
       "\n",
       "      UNITCD  COUNTYCD   PLOT  PLOT_STATUS_CD  ...  PREV_PLOT_STATUS_CD_RMRS  \\\n",
       "6372       8         7  55614               1  ...                       NaN   \n",
       "720        8        37  74996               2  ...                       NaN   \n",
       "4199       8         7  70269               1  ...                       NaN   \n",
       "\n",
       "      REUSECD1  REUSECD2  REUSECD3  GRND_LYR_SAMPLING_STATUS_CD  \\\n",
       "6372       NaN       NaN       NaN                          NaN   \n",
       "720        NaN       NaN       NaN                          NaN   \n",
       "4199       0.0       0.0       0.0                          NaN   \n",
       "\n",
       "      GRND_LYR_SAMPLING_METHOD_CD                                 IRWINID  \\\n",
       "6372                          NaN  {AB4AB263-8BAD-418A-9CE9-E6EC8B8E59F5}   \n",
       "720                           NaN                                     NaN   \n",
       "4199                          NaN                                     NaN   \n",
       "\n",
       "      FIRE_YEAR        INCIDENT  GIS_ACRES  \n",
       "6372       2017        UNO PEAK    8746.30  \n",
       "720        2013  Colockum Tarps   81513.99  \n",
       "4199       1994  Hatchery Creek   42173.50  \n",
       "\n",
       "[3 rows x 73 columns]"
      ]
     },
     "execution_count": 6,
     "metadata": {},
     "output_type": "execute_result"
    }
   ],
   "source": [
    "FIREPLOTS.sample(3)"
   ]
  },
  {
   "cell_type": "code",
   "execution_count": 7,
   "metadata": {},
   "outputs": [],
   "source": [
    "FIREPLOTS_MEAS = FIREPLOTS.copy()\n",
    "FIREPLOTS_MEAS['MEASYEAR1,MEASYEAR2'] = None\n",
    "# This will just add MEASYEAR1 and MEASYEAR2\n",
    "#After we will filter for rows where the fire occurs in between\n",
    "nums_of_measurements = np.zeros(len(FIREPLOTS))\n",
    "for index,row in FIREPLOTS_MEAS.iterrows():\n",
    "    plot = row['PLOT']\n",
    "    unitcd = row['UNITCD']\n",
    "    countycd = row['COUNTYCD']\n",
    "    \n",
    "    uniqueplot = PLOTS[(PLOTS['PLOT']==plot) & (PLOTS['UNITCD'] == unitcd) & (PLOTS['COUNTYCD']==countycd)]\n",
    "    if len(uniqueplot) == 2:\n",
    "        FIREPLOTS_MEAS['MEASYEAR1'] = min(uniqueplot.MEASYEAR)\n",
    "        FIREPLOTS_MEAS['MEASYEAR2'] = max(uniqueplot.MEASYEAR)\n"
   ]
  },
  {
   "cell_type": "code",
   "execution_count": 8,
   "metadata": {},
   "outputs": [
    {
     "name": "stdout",
     "output_type": "stream",
     "text": [
      "1729\n",
      "539\n"
     ]
    }
   ],
   "source": [
    "FIREPLOTS_FIRE_SANDWICH = FIREPLOTS_MEAS[(FIREPLOTS_MEAS['FIRE_YEAR']>FIREPLOTS_MEAS['MEASYEAR1']) & (FIREPLOTS_MEAS['FIRE_YEAR']<FIREPLOTS_MEAS['MEASYEAR2'])]\n",
    "print(len(FIREPLOTS_FIRE_SANDWICH))\n",
    "print(FIREPLOTS_FIRE_SANDWICH['PLOT'].nunique())"
   ]
  },
  {
   "cell_type": "markdown",
   "metadata": {},
   "source": [
    "**IF** I have done this properly there are 1729 (think hardy) fire, plot pairs that are sandwiched between two measurements.  These pairs are on 539 plots.  \\\n",
    "Let me check a couple rows.."
   ]
  },
  {
   "cell_type": "code",
   "execution_count": 9,
   "metadata": {},
   "outputs": [
    {
     "data": {
      "text/html": [
       "<div>\n",
       "<style scoped>\n",
       "    .dataframe tbody tr th:only-of-type {\n",
       "        vertical-align: middle;\n",
       "    }\n",
       "\n",
       "    .dataframe tbody tr th {\n",
       "        vertical-align: top;\n",
       "    }\n",
       "\n",
       "    .dataframe thead th {\n",
       "        text-align: right;\n",
       "    }\n",
       "</style>\n",
       "<table border=\"1\" class=\"dataframe\">\n",
       "  <thead>\n",
       "    <tr style=\"text-align: right;\">\n",
       "      <th></th>\n",
       "      <th>MEASYEAR1</th>\n",
       "      <th>FIRE_YEAR</th>\n",
       "      <th>MEASYEAR2</th>\n",
       "    </tr>\n",
       "  </thead>\n",
       "  <tbody>\n",
       "    <tr>\n",
       "      <th>1236</th>\n",
       "      <td>2005</td>\n",
       "      <td>2006</td>\n",
       "      <td>2015</td>\n",
       "    </tr>\n",
       "    <tr>\n",
       "      <th>3867</th>\n",
       "      <td>2005</td>\n",
       "      <td>2006</td>\n",
       "      <td>2015</td>\n",
       "    </tr>\n",
       "    <tr>\n",
       "      <th>1104</th>\n",
       "      <td>2005</td>\n",
       "      <td>2006</td>\n",
       "      <td>2015</td>\n",
       "    </tr>\n",
       "    <tr>\n",
       "      <th>779</th>\n",
       "      <td>2005</td>\n",
       "      <td>2012</td>\n",
       "      <td>2015</td>\n",
       "    </tr>\n",
       "    <tr>\n",
       "      <th>937</th>\n",
       "      <td>2005</td>\n",
       "      <td>2012</td>\n",
       "      <td>2015</td>\n",
       "    </tr>\n",
       "    <tr>\n",
       "      <th>634</th>\n",
       "      <td>2005</td>\n",
       "      <td>2012</td>\n",
       "      <td>2015</td>\n",
       "    </tr>\n",
       "    <tr>\n",
       "      <th>2837</th>\n",
       "      <td>2005</td>\n",
       "      <td>2014</td>\n",
       "      <td>2015</td>\n",
       "    </tr>\n",
       "    <tr>\n",
       "      <th>3819</th>\n",
       "      <td>2005</td>\n",
       "      <td>2006</td>\n",
       "      <td>2015</td>\n",
       "    </tr>\n",
       "    <tr>\n",
       "      <th>2246</th>\n",
       "      <td>2005</td>\n",
       "      <td>2014</td>\n",
       "      <td>2015</td>\n",
       "    </tr>\n",
       "    <tr>\n",
       "      <th>1048</th>\n",
       "      <td>2005</td>\n",
       "      <td>2006</td>\n",
       "      <td>2015</td>\n",
       "    </tr>\n",
       "  </tbody>\n",
       "</table>\n",
       "</div>"
      ],
      "text/plain": [
       "      MEASYEAR1  FIRE_YEAR  MEASYEAR2\n",
       "1236       2005       2006       2015\n",
       "3867       2005       2006       2015\n",
       "1104       2005       2006       2015\n",
       "779        2005       2012       2015\n",
       "937        2005       2012       2015\n",
       "634        2005       2012       2015\n",
       "2837       2005       2014       2015\n",
       "3819       2005       2006       2015\n",
       "2246       2005       2014       2015\n",
       "1048       2005       2006       2015"
      ]
     },
     "execution_count": 9,
     "metadata": {},
     "output_type": "execute_result"
    }
   ],
   "source": [
    "FIREPLOTS_FIRE_SANDWICH[['MEASYEAR1','FIRE_YEAR','MEASYEAR2']].sample(10)"
   ]
  },
  {
   "cell_type": "markdown",
   "metadata": {},
   "source": [
    "**BANG!** \\\n",
    "Look at how those fires are sandwiched\n",
    "\n",
    "OK.\n",
    "\n",
    "I am claiming that we use this **FIREPLOTS_FIRE_SANDWICH** dataset to filter our trees.  This will give us our final dataset.  \n",
    "\n",
    "PLEASE double check my work and logic behind the filtering.  "
   ]
  },
  {
   "cell_type": "markdown",
   "metadata": {},
   "source": [
    "#### Lets see how many trees fall into these plots that have this measurement structure.  \n",
    "- First I make a new column in **FIREPLOTS_FIRE_SANDWICH** and **TREE** which is just a concatenation of *UNITCD,COUNTYCD, and PLOT*.  IN THIS ORDER!\n",
    "- The combination of these three columns is called 'UNIQUE_PLOT_ID'."
   ]
  },
  {
   "cell_type": "code",
   "execution_count": 30,
   "metadata": {},
   "outputs": [
    {
     "name": "stderr",
     "output_type": "stream",
     "text": [
      "/var/folders/mm/t_p68_6506v3jg0m1f58zkv40000gn/T/ipykernel_50410/1133276061.py:1: SettingWithCopyWarning: \n",
      "A value is trying to be set on a copy of a slice from a DataFrame.\n",
      "Try using .loc[row_indexer,col_indexer] = value instead\n",
      "\n",
      "See the caveats in the documentation: https://pandas.pydata.org/pandas-docs/stable/user_guide/indexing.html#returning-a-view-versus-a-copy\n",
      "  FIREPLOTS_FIRE_SANDWICH['UNIQUE_PLOT_ID'] =FIREPLOTS_FIRE_SANDWICH['UNITCD'].astype(str)+' '+FIREPLOTS_FIRE_SANDWICH['COUNTYCD'].astype(str)+' '+FIREPLOTS_FIRE_SANDWICH['PLOT'].astype(str)\n"
     ]
    }
   ],
   "source": [
    "FIREPLOTS_FIRE_SANDWICH['UNIQUE_PLOT_ID'] =FIREPLOTS_FIRE_SANDWICH['UNITCD'].astype(str)+' '+FIREPLOTS_FIRE_SANDWICH['COUNTYCD'].astype(str)+' '+FIREPLOTS_FIRE_SANDWICH['PLOT'].astype(str)\n",
    "TREE['UNIQUE_PLOT_ID'] = TREE['UNITCD'].astype(str)+' '+TREE['COUNTYCD'].astype(str)+' '+TREE['PLOT'].astype(str)"
   ]
  },
  {
   "cell_type": "code",
   "execution_count": 32,
   "metadata": {},
   "outputs": [
    {
     "data": {
      "text/plain": [
       "20868"
      ]
     },
     "execution_count": 32,
     "metadata": {},
     "output_type": "execute_result"
    }
   ],
   "source": [
    "TREES_FOR_US = TREE[TREE['UNIQUE_PLOT_ID'].isin(FIREPLOTS_FIRE_SANDWICH['UNIQUE_PLOT_ID'])]\n",
    "len(TREES_FOR_US)"
   ]
  },
  {
   "cell_type": "markdown",
   "metadata": {},
   "source": [
    "$N=20868$ TREES!"
   ]
  }
 ],
 "metadata": {
  "kernelspec": {
   "display_name": "erdos_fall_2024",
   "language": "python",
   "name": "python3"
  },
  "language_info": {
   "codemirror_mode": {
    "name": "ipython",
    "version": 3
   },
   "file_extension": ".py",
   "mimetype": "text/x-python",
   "name": "python",
   "nbconvert_exporter": "python",
   "pygments_lexer": "ipython3",
   "version": "3.12.5"
  }
 },
 "nbformat": 4,
 "nbformat_minor": 2
}
