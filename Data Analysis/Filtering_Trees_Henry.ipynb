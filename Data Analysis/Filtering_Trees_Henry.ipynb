{
 "cells": [
  {
   "cell_type": "code",
   "execution_count": 1,
   "metadata": {},
   "outputs": [],
   "source": [
    "import numpy as np\n",
    "import pandas as pd\n",
    "import matplotlib.pyplot as plt\n",
    "import plotly.express as px\n",
    "import seaborn as sns\n",
    "sns.set_style(\"whitegrid\")"
   ]
  },
  {
   "cell_type": "code",
   "execution_count": 11,
   "metadata": {},
   "outputs": [
    {
     "name": "stderr",
     "output_type": "stream",
     "text": [
      "/var/folders/mm/t_p68_6506v3jg0m1f58zkv40000gn/T/ipykernel_45123/2074286447.py:1: DtypeWarning: Columns (77,159) have mixed types. Specify dtype option on import or set low_memory=False.\n",
      "  TREE = pd.read_csv('../Data/WA_TREE.csv')\n"
     ]
    },
    {
     "name": "stdout",
     "output_type": "stream",
     "text": [
      "504956\n"
     ]
    },
    {
     "data": {
      "text/plain": [
       "Index(['CN', 'PLT_CN', 'PREV_TRE_CN', 'INVYR', 'STATECD', 'UNITCD', 'COUNTYCD',\n",
       "       'PLOT', 'SUBP', 'TREE',\n",
       "       ...\n",
       "       'VOLCSNET_BARK', 'DRYBIO_STEM', 'DRYBIO_STEM_BARK', 'DRYBIO_STUMP_BARK',\n",
       "       'DRYBIO_BOLE_BARK', 'DRYBIO_BRANCH', 'DRYBIO_FOLIAGE',\n",
       "       'DRYBIO_SAWLOG_BARK', 'PREV_ACTUALHT_FLD', 'PREV_HT_FLD'],\n",
       "      dtype='object', length=197)"
      ]
     },
     "execution_count": 11,
     "metadata": {},
     "output_type": "execute_result"
    }
   ],
   "source": [
    "TREE = pd.read_csv('../Data/WA_TREE.csv')\n",
    "print(len(TREE))\n",
    "TREE.columns"
   ]
  },
  {
   "cell_type": "markdown",
   "metadata": {},
   "source": [
    "$N = 504,956$ \n",
    "- Now we can remove trees that are in plots that have not burned in the last 24 years.  \n",
    "- To do this I will use **PLOT_FIRES_GIS**, which was created by intersecting the last 24 years of fire data from the NIFC with our plot latitude and longitude.  *We are introducing our first uncertainty here- the plot latitude and longitude have been 'fuzzed'.*"
   ]
  },
  {
   "cell_type": "code",
   "execution_count": 36,
   "metadata": {},
   "outputs": [
    {
     "name": "stdout",
     "output_type": "stream",
     "text": [
      "7177\n",
      "Index(['CN', 'SRV_CN', 'CTY_CN', 'PREV_PLT_CN', 'INVYR', 'STATECD', 'UNITCD',\n",
      "       'COUNTYCD', 'PLOT', 'PLOT_STATUS_CD', 'PLOT_NONSAMPLE_REASN_CD',\n",
      "       'MEASYEAR', 'MEASMON', 'MEASDAY', 'REMPER', 'KINDCD', 'DESIGNCD',\n",
      "       'RDDISTCD', 'WATERCD', 'LAT', 'LON', 'ELEV', 'GROW_TYP_CD',\n",
      "       'MORT_TYP_CD', 'P2PANEL', 'P3PANEL', 'ECOSUBCD', 'CONGCD', 'MANUAL',\n",
      "       'KINDCD_NC', 'QA_STATUS', 'CREATED_DATE', 'MODIFIED_DATE',\n",
      "       'MICROPLOT_LOC', 'DECLINATION', 'EMAP_HEX', 'SAMP_METHOD_CD',\n",
      "       'SUBP_EXAMINE_CD', 'MACRO_BREAKPOINT_DIA', 'INTENSITY', 'CYCLE',\n",
      "       'SUBCYCLE', 'ECO_UNIT_PNW', 'TOPO_POSITION_PNW',\n",
      "       'NF_SAMPLING_STATUS_CD', 'NF_PLOT_STATUS_CD',\n",
      "       'NF_PLOT_NONSAMPLE_REASN_CD', 'P2VEG_SAMPLING_STATUS_CD',\n",
      "       'P2VEG_SAMPLING_LEVEL_DETAIL_CD', 'INVASIVE_SAMPLING_STATUS_CD',\n",
      "       'INVASIVE_SPECIMEN_RULE_CD', 'DESIGNCD_P2A', 'MANUAL_DB', 'SUBPANEL',\n",
      "       'CONDCHNGCD_RMRS', 'FUTFORCD_RMRS', 'MANUAL_NCRS', 'MANUAL_NERS',\n",
      "       'MANUAL_RMRS', 'PAC_ISLAND_PNWRS', 'PLOT_SEASON_NERS', 'PRECIPITATION',\n",
      "       'PREV_MICROPLOT_LOC_RMRS', 'PREV_PLOT_STATUS_CD_RMRS', 'REUSECD1',\n",
      "       'REUSECD2', 'REUSECD3', 'GRND_LYR_SAMPLING_STATUS_CD',\n",
      "       'GRND_LYR_SAMPLING_METHOD_CD', 'IRWINID', 'FIRE_YEAR', 'INCIDENT',\n",
      "       'GIS_ACRES'],\n",
      "      dtype='object')\n"
     ]
    }
   ],
   "source": [
    "FIREPLOTS = pd.read_csv('../Data/WA_PLOT_FIRE_PAIRS.csv')\n",
    "print(len(FIREPLOTS))\n",
    "print(FIREPLOTS.columns)\n"
   ]
  },
  {
   "cell_type": "markdown",
   "metadata": {},
   "source": [
    "**There are 7177 plots*fire pairs that have burned in the last 24 years.**\n",
    "- Now we filter TREE by using these plots.  "
   ]
  },
  {
   "cell_type": "code",
   "execution_count": 41,
   "metadata": {},
   "outputs": [
    {
     "data": {
      "text/plain": [
       "128183"
      ]
     },
     "execution_count": 41,
     "metadata": {},
     "output_type": "execute_result"
    }
   ],
   "source": [
    "TREE_IN_BURNED_PLOTS = TREE[TREE['PLOT'].isin(FIREPLOTS['PLOT'])]\n",
    "len(TREE_IN_BURNED_PLOTS)"
   ]
  },
  {
   "cell_type": "markdown",
   "metadata": {},
   "source": [
    "$N = 128,183$\n",
    "- This is still a lot of trees that appear in plots that have burned.  \n",
    "- Now we need to filter for PLOTs that have been measured on either side of a burn\n",
    "    - These measurements years are shown in the **WA_PLOT.csv** dataset in the *MEASYEAR* column\n",
    "\n",
    "- **PLOT_FIRES_GIS** contains fire, plot pairs.  \n",
    "    - Lets go through these pairs, referencing WA_PLOT to check if the measurement years are on either side of the fire year\n",
    "        - This will filter **PLOT_FIRES_GIS** and will add the 2 years measured as columns to **PLOT_FIRES_GIS**."
   ]
  },
  {
   "cell_type": "code",
   "execution_count": 40,
   "metadata": {},
   "outputs": [
    {
     "data": {
      "text/plain": [
       "Index(['CN', 'SRV_CN', 'CTY_CN', 'PREV_PLT_CN', 'INVYR', 'STATECD', 'UNITCD',\n",
       "       'COUNTYCD', 'PLOT', 'PLOT_STATUS_CD', 'PLOT_NONSAMPLE_REASN_CD',\n",
       "       'MEASYEAR', 'MEASMON', 'MEASDAY', 'REMPER', 'KINDCD', 'DESIGNCD',\n",
       "       'RDDISTCD', 'WATERCD', 'LAT', 'LON', 'ELEV', 'GROW_TYP_CD',\n",
       "       'MORT_TYP_CD', 'P2PANEL', 'P3PANEL', 'ECOSUBCD', 'CONGCD', 'MANUAL',\n",
       "       'KINDCD_NC', 'QA_STATUS', 'CREATED_DATE', 'MODIFIED_DATE',\n",
       "       'MICROPLOT_LOC', 'DECLINATION', 'EMAP_HEX', 'SAMP_METHOD_CD',\n",
       "       'SUBP_EXAMINE_CD', 'MACRO_BREAKPOINT_DIA', 'INTENSITY', 'CYCLE',\n",
       "       'SUBCYCLE', 'ECO_UNIT_PNW', 'TOPO_POSITION_PNW',\n",
       "       'NF_SAMPLING_STATUS_CD', 'NF_PLOT_STATUS_CD',\n",
       "       'NF_PLOT_NONSAMPLE_REASN_CD', 'P2VEG_SAMPLING_STATUS_CD',\n",
       "       'P2VEG_SAMPLING_LEVEL_DETAIL_CD', 'INVASIVE_SAMPLING_STATUS_CD',\n",
       "       'INVASIVE_SPECIMEN_RULE_CD', 'DESIGNCD_P2A', 'MANUAL_DB', 'SUBPANEL',\n",
       "       'CONDCHNGCD_RMRS', 'FUTFORCD_RMRS', 'MANUAL_NCRS', 'MANUAL_NERS',\n",
       "       'MANUAL_RMRS', 'PAC_ISLAND_PNWRS', 'PLOT_SEASON_NERS', 'PRECIPITATION',\n",
       "       'PREV_MICROPLOT_LOC_RMRS', 'PREV_PLOT_STATUS_CD_RMRS', 'REUSECD1',\n",
       "       'REUSECD2', 'REUSECD3', 'GRND_LYR_SAMPLING_STATUS_CD',\n",
       "       'GRND_LYR_SAMPLING_METHOD_CD'],\n",
       "      dtype='object')"
      ]
     },
     "execution_count": 40,
     "metadata": {},
     "output_type": "execute_result"
    }
   ],
   "source": [
    "PLOTS = pd.read_csv('../Data/WA_PLOT.csv')\n",
    "PLOTS.columns"
   ]
  },
  {
   "cell_type": "code",
   "execution_count": 53,
   "metadata": {},
   "outputs": [
    {
     "data": {
      "text/html": [
       "<div>\n",
       "<style scoped>\n",
       "    .dataframe tbody tr th:only-of-type {\n",
       "        vertical-align: middle;\n",
       "    }\n",
       "\n",
       "    .dataframe tbody tr th {\n",
       "        vertical-align: top;\n",
       "    }\n",
       "\n",
       "    .dataframe thead th {\n",
       "        text-align: right;\n",
       "    }\n",
       "</style>\n",
       "<table border=\"1\" class=\"dataframe\">\n",
       "  <thead>\n",
       "    <tr style=\"text-align: right;\">\n",
       "      <th></th>\n",
       "      <th>CN</th>\n",
       "      <th>SRV_CN</th>\n",
       "      <th>CTY_CN</th>\n",
       "      <th>PREV_PLT_CN</th>\n",
       "      <th>INVYR</th>\n",
       "      <th>STATECD</th>\n",
       "      <th>UNITCD</th>\n",
       "      <th>COUNTYCD</th>\n",
       "      <th>PLOT</th>\n",
       "      <th>PLOT_STATUS_CD</th>\n",
       "      <th>...</th>\n",
       "      <th>PREV_PLOT_STATUS_CD_RMRS</th>\n",
       "      <th>REUSECD1</th>\n",
       "      <th>REUSECD2</th>\n",
       "      <th>REUSECD3</th>\n",
       "      <th>GRND_LYR_SAMPLING_STATUS_CD</th>\n",
       "      <th>GRND_LYR_SAMPLING_METHOD_CD</th>\n",
       "      <th>IRWINID</th>\n",
       "      <th>FIRE_YEAR</th>\n",
       "      <th>INCIDENT</th>\n",
       "      <th>GIS_ACRES</th>\n",
       "    </tr>\n",
       "  </thead>\n",
       "  <tbody>\n",
       "    <tr>\n",
       "      <th>6738</th>\n",
       "      <td>290008196489998</td>\n",
       "      <td>273493076489998</td>\n",
       "      <td>60010497</td>\n",
       "      <td>2.239889e+13</td>\n",
       "      <td>2015</td>\n",
       "      <td>53</td>\n",
       "      <td>6</td>\n",
       "      <td>9</td>\n",
       "      <td>71039</td>\n",
       "      <td>1</td>\n",
       "      <td>...</td>\n",
       "      <td>NaN</td>\n",
       "      <td>NaN</td>\n",
       "      <td>NaN</td>\n",
       "      <td>NaN</td>\n",
       "      <td>NaN</td>\n",
       "      <td>NaN</td>\n",
       "      <td>NaN</td>\n",
       "      <td>1951</td>\n",
       "      <td>Forks</td>\n",
       "      <td>32697.910</td>\n",
       "    </tr>\n",
       "    <tr>\n",
       "      <th>2292</th>\n",
       "      <td>30852567020004</td>\n",
       "      <td>30431009020004</td>\n",
       "      <td>92010497</td>\n",
       "      <td>2.239830e+13</td>\n",
       "      <td>2012</td>\n",
       "      <td>53</td>\n",
       "      <td>8</td>\n",
       "      <td>47</td>\n",
       "      <td>71067</td>\n",
       "      <td>1</td>\n",
       "      <td>...</td>\n",
       "      <td>NaN</td>\n",
       "      <td>NaN</td>\n",
       "      <td>NaN</td>\n",
       "      <td>NaN</td>\n",
       "      <td>NaN</td>\n",
       "      <td>NaN</td>\n",
       "      <td>NaN</td>\n",
       "      <td>2014</td>\n",
       "      <td>Carlton Complex</td>\n",
       "      <td>251965.300</td>\n",
       "    </tr>\n",
       "    <tr>\n",
       "      <th>6029</th>\n",
       "      <td>412222872489998</td>\n",
       "      <td>384841470489998</td>\n",
       "      <td>88010497</td>\n",
       "      <td>2.295609e+13</td>\n",
       "      <td>2017</td>\n",
       "      <td>53</td>\n",
       "      <td>9</td>\n",
       "      <td>25</td>\n",
       "      <td>74107</td>\n",
       "      <td>2</td>\n",
       "      <td>...</td>\n",
       "      <td>NaN</td>\n",
       "      <td>NaN</td>\n",
       "      <td>NaN</td>\n",
       "      <td>NaN</td>\n",
       "      <td>NaN</td>\n",
       "      <td>NaN</td>\n",
       "      <td>{A7034F3F-54D7-4C38-9E80-937F85490E42}</td>\n",
       "      <td>2016</td>\n",
       "      <td>Lower Crab Creek</td>\n",
       "      <td>6244.313</td>\n",
       "    </tr>\n",
       "  </tbody>\n",
       "</table>\n",
       "<p>3 rows × 73 columns</p>\n",
       "</div>"
      ],
      "text/plain": [
       "                   CN           SRV_CN    CTY_CN   PREV_PLT_CN  INVYR  \\\n",
       "6738  290008196489998  273493076489998  60010497  2.239889e+13   2015   \n",
       "2292   30852567020004   30431009020004  92010497  2.239830e+13   2012   \n",
       "6029  412222872489998  384841470489998  88010497  2.295609e+13   2017   \n",
       "\n",
       "      STATECD  UNITCD  COUNTYCD   PLOT  PLOT_STATUS_CD  ...  \\\n",
       "6738       53       6         9  71039               1  ...   \n",
       "2292       53       8        47  71067               1  ...   \n",
       "6029       53       9        25  74107               2  ...   \n",
       "\n",
       "      PREV_PLOT_STATUS_CD_RMRS  REUSECD1  REUSECD2  REUSECD3  \\\n",
       "6738                       NaN       NaN       NaN       NaN   \n",
       "2292                       NaN       NaN       NaN       NaN   \n",
       "6029                       NaN       NaN       NaN       NaN   \n",
       "\n",
       "      GRND_LYR_SAMPLING_STATUS_CD  GRND_LYR_SAMPLING_METHOD_CD  \\\n",
       "6738                          NaN                          NaN   \n",
       "2292                          NaN                          NaN   \n",
       "6029                          NaN                          NaN   \n",
       "\n",
       "                                     IRWINID  FIRE_YEAR          INCIDENT  \\\n",
       "6738                                     NaN       1951             Forks   \n",
       "2292                                     NaN       2014   Carlton Complex   \n",
       "6029  {A7034F3F-54D7-4C38-9E80-937F85490E42}       2016  Lower Crab Creek   \n",
       "\n",
       "       GIS_ACRES  \n",
       "6738   32697.910  \n",
       "2292  251965.300  \n",
       "6029    6244.313  \n",
       "\n",
       "[3 rows x 73 columns]"
      ]
     },
     "execution_count": 53,
     "metadata": {},
     "output_type": "execute_result"
    }
   ],
   "source": [
    "FIREPLOTS.sample(3)"
   ]
  },
  {
   "cell_type": "code",
   "execution_count": 63,
   "metadata": {},
   "outputs": [],
   "source": [
    "FIREPLOTS_MEAS = FIREPLOTS.copy()\n",
    "FIREPLOTS_MEAS['MEASYEAR1,MEASYEAR2'] = None\n",
    "# This will just add MEASYEAR1 and MEASYEAR2\n",
    "#After we will filter for rows where the fire occurs in between\n",
    "nums_of_measurements = np.zeros(len(FIREPLOTS))\n",
    "for index,row in FIREPLOTS_MEAS.iterrows():\n",
    "    plot = row['PLOT']\n",
    "    unitcd = row['UNITCD']\n",
    "    countycd = row['COUNTYCD']\n",
    "    \n",
    "    uniqueplot = PLOTS[(PLOTS['PLOT']==plot) & (PLOTS['UNITCD'] == unitcd) & (PLOTS['COUNTYCD']==countycd)]\n",
    "    if len(uniqueplot) == 2:\n",
    "        FIREPLOTS_MEAS['MEASYEAR1'] = min(uniqueplot.MEASYEAR)\n",
    "        FIREPLOTS_MEAS['MEASYEAR2'] = max(uniqueplot.MEASYEAR)\n"
   ]
  },
  {
   "cell_type": "code",
   "execution_count": 76,
   "metadata": {},
   "outputs": [
    {
     "name": "stdout",
     "output_type": "stream",
     "text": [
      "1729\n",
      "539\n"
     ]
    }
   ],
   "source": [
    "FIREPLOTS_FIRE_SANDWICH = FIREPLOTS_MEAS[(FIREPLOTS_MEAS['FIRE_YEAR']>FIREPLOTS_MEAS['MEASYEAR1']) & (FIREPLOTS_MEAS['FIRE_YEAR']<FIREPLOTS_MEAS['MEASYEAR2'])]\n",
    "print(len(FIREPLOTS_FIRE_SANDWICH))\n",
    "print(FIREPLOTS_FIRE_SANDWICH['PLOT'].nunique())"
   ]
  },
  {
   "cell_type": "markdown",
   "metadata": {},
   "source": [
    "**IF** I have done this properly there are 1729 (think hardy) fire, plot pairs that are sandwiched between two measurements.  These pairs are on 539 plots.  \\\n",
    "Let me check a couple rows.."
   ]
  },
  {
   "cell_type": "code",
   "execution_count": 83,
   "metadata": {},
   "outputs": [
    {
     "data": {
      "text/html": [
       "<div>\n",
       "<style scoped>\n",
       "    .dataframe tbody tr th:only-of-type {\n",
       "        vertical-align: middle;\n",
       "    }\n",
       "\n",
       "    .dataframe tbody tr th {\n",
       "        vertical-align: top;\n",
       "    }\n",
       "\n",
       "    .dataframe thead th {\n",
       "        text-align: right;\n",
       "    }\n",
       "</style>\n",
       "<table border=\"1\" class=\"dataframe\">\n",
       "  <thead>\n",
       "    <tr style=\"text-align: right;\">\n",
       "      <th></th>\n",
       "      <th>MEASYEAR1</th>\n",
       "      <th>FIRE_YEAR</th>\n",
       "      <th>MEASYEAR2</th>\n",
       "    </tr>\n",
       "  </thead>\n",
       "  <tbody>\n",
       "    <tr>\n",
       "      <th>139</th>\n",
       "      <td>2005</td>\n",
       "      <td>2007</td>\n",
       "      <td>2015</td>\n",
       "    </tr>\n",
       "    <tr>\n",
       "      <th>1265</th>\n",
       "      <td>2005</td>\n",
       "      <td>2006</td>\n",
       "      <td>2015</td>\n",
       "    </tr>\n",
       "    <tr>\n",
       "      <th>5322</th>\n",
       "      <td>2005</td>\n",
       "      <td>2012</td>\n",
       "      <td>2015</td>\n",
       "    </tr>\n",
       "    <tr>\n",
       "      <th>1275</th>\n",
       "      <td>2005</td>\n",
       "      <td>2011</td>\n",
       "      <td>2015</td>\n",
       "    </tr>\n",
       "    <tr>\n",
       "      <th>3504</th>\n",
       "      <td>2005</td>\n",
       "      <td>2006</td>\n",
       "      <td>2015</td>\n",
       "    </tr>\n",
       "    <tr>\n",
       "      <th>2740</th>\n",
       "      <td>2005</td>\n",
       "      <td>2014</td>\n",
       "      <td>2015</td>\n",
       "    </tr>\n",
       "    <tr>\n",
       "      <th>2393</th>\n",
       "      <td>2005</td>\n",
       "      <td>2014</td>\n",
       "      <td>2015</td>\n",
       "    </tr>\n",
       "    <tr>\n",
       "      <th>656</th>\n",
       "      <td>2005</td>\n",
       "      <td>2012</td>\n",
       "      <td>2015</td>\n",
       "    </tr>\n",
       "    <tr>\n",
       "      <th>4277</th>\n",
       "      <td>2005</td>\n",
       "      <td>2008</td>\n",
       "      <td>2015</td>\n",
       "    </tr>\n",
       "    <tr>\n",
       "      <th>2806</th>\n",
       "      <td>2005</td>\n",
       "      <td>2014</td>\n",
       "      <td>2015</td>\n",
       "    </tr>\n",
       "  </tbody>\n",
       "</table>\n",
       "</div>"
      ],
      "text/plain": [
       "      MEASYEAR1  FIRE_YEAR  MEASYEAR2\n",
       "139        2005       2007       2015\n",
       "1265       2005       2006       2015\n",
       "5322       2005       2012       2015\n",
       "1275       2005       2011       2015\n",
       "3504       2005       2006       2015\n",
       "2740       2005       2014       2015\n",
       "2393       2005       2014       2015\n",
       "656        2005       2012       2015\n",
       "4277       2005       2008       2015\n",
       "2806       2005       2014       2015"
      ]
     },
     "execution_count": 83,
     "metadata": {},
     "output_type": "execute_result"
    }
   ],
   "source": [
    "FIREPLOTS_FIRE_SANDWICH[['MEASYEAR1','FIRE_YEAR','MEASYEAR2']].sample(10)"
   ]
  },
  {
   "cell_type": "markdown",
   "metadata": {},
   "source": [
    "**BANG!** \\\n",
    "Look at how those fires are sandwiched\n",
    "\n",
    "OK.\n",
    "\n",
    "I am claiming that we use this **FIREPLOTS_FIRE_SANDWICH** dataset to filter our trees.  This will give us our final dataset.  \n",
    "\n",
    "PLEASE double check my work and logic behind the filtering.  "
   ]
  }
 ],
 "metadata": {
  "kernelspec": {
   "display_name": "erdos_fall_2024",
   "language": "python",
   "name": "python3"
  },
  "language_info": {
   "codemirror_mode": {
    "name": "ipython",
    "version": 3
   },
   "file_extension": ".py",
   "mimetype": "text/x-python",
   "name": "python",
   "nbconvert_exporter": "python",
   "pygments_lexer": "ipython3",
   "version": "3.12.5"
  }
 },
 "nbformat": 4,
 "nbformat_minor": 2
}
