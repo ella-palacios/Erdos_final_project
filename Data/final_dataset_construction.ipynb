{
 "cells": [
  {
   "cell_type": "markdown",
   "metadata": {},
   "source": [
    "## Dataset Construction \n",
    "This notebook runs the algoroithm for compiling our final dataset. I'll run the algo here as a sanity check and then save everything as a .py file for others to use and run. The construction algorithm is the same as used in 'dataset_construction.ipynb' which can be found in 'old_EDA' on the github. "
   ]
  },
  {
   "cell_type": "code",
   "execution_count": 81,
   "metadata": {},
   "outputs": [],
   "source": [
    "import numpy as np\n",
    "import pandas as pd\n",
    "from pandas.testing import assert_frame_equal #testing "
   ]
  },
  {
   "cell_type": "code",
   "execution_count": 82,
   "metadata": {},
   "outputs": [
    {
     "name": "stderr",
     "output_type": "stream",
     "text": [
      "/var/folders/nk/f27c2wr95rxdlns7bpdhxv680000gn/T/ipykernel_26508/1874102644.py:2: DtypeWarning: Columns (78,160,200,204,208) have mixed types. Specify dtype option on import or set low_memory=False.\n",
      "  trees4us = pd.read_csv('/Users/ellapalacios/Downloads/tree_proj/data/TREES_FOR_US.csv')\n"
     ]
    }
   ],
   "source": [
    "# trees = pd.read_csv('/Users/ellapalacios/Downloads/tree_proj/data/WA_TREE.csv') -- don't actually need this because all the needed tree info is already in trees4us\n",
    "trees4us = pd.read_csv('/Users/ellapalacios/Downloads/tree_proj/data/TREES_FOR_US.csv')\n",
    "plot = pd.read_csv('/Users/ellapalacios/Downloads/tree_proj/data/WA_PLOT.csv')"
   ]
  },
  {
   "cell_type": "code",
   "execution_count": 83,
   "metadata": {},
   "outputs": [],
   "source": [
    "#dropping what we don't need and sorting\n",
    "plot = plot[['CN', 'PREV_PLT_CN', 'STATECD', 'UNITCD', 'COUNTYCD', 'PLOT', 'MEASYEAR', 'MEASMON', 'MEASDAY', 'WATERCD', 'LAT', 'LON', 'ELEV']]\n",
    "plot = plot.sort_values(by = 'CN')\n",
    "trees4us = trees4us.sort_values(by = 'PLT_CN')"
   ]
  },
  {
   "cell_type": "code",
   "execution_count": 84,
   "metadata": {},
   "outputs": [],
   "source": [
    "new_data = pd.merge(plot, trees4us, left_on='CN', right_on='PLT_CN')"
   ]
  },
  {
   "cell_type": "code",
   "execution_count": 85,
   "metadata": {},
   "outputs": [],
   "source": [
    "#running some sanity checks that everything aligned correctly \n",
    "sanity_check_data = new_data[['CN_x', 'PLT_CN', 'PLOT_x', 'PLOT_y', 'COUNTYCD_x', 'COUNTYCD_y' ]]\n",
    "\n",
    "from pandas.testing import assert_frame_equal\n",
    "\n",
    "frame1 = sanity_check_data[['CN_x',  'PLOT_x', 'COUNTYCD_x']]\n",
    "frame2 = sanity_check_data[[ 'PLT_CN',  'PLOT_y', 'COUNTYCD_y' ]]\n",
    "\n",
    "frame1 = frame1.rename(columns={'CN_x':'CN', 'PLOT_x': 'PLOT', 'COUNTYCD_x':'COUNTYCD'}) #two frames must be named identically for the assertion to actually check the data\n",
    "frame2 = frame2.rename(columns={'PLT_CN':'CN', 'PLOT_y': 'PLOT', 'COUNTYCD_y':'COUNTYCD'})\n",
    "\n",
    "assert_frame_equal(frame1, frame2, check_dtype= False )\n",
    "\n",
    "#since this returns nothing, everything should have lined up ok. Yeet"
   ]
  },
  {
   "cell_type": "code",
   "execution_count": 86,
   "metadata": {},
   "outputs": [],
   "source": [
    "#dropping duplicate columns & correctly renaming. Then saving the big one as a csv just in case. \n",
    "new_data = new_data.drop(columns= ['CN_x', 'PLOT_x', 'COUNTYCD_x', 'UNITCD_x', 'STATECD_x', 'STATECD_y', 'MEASYEAR_y']) #dropping duplicate features\n",
    "new_data = new_data.rename(columns= {'PLOT_y':'PLOT', 'COUNTYCD_y':'COUNTYCD', 'CN_y':'CN', 'UNITCD_y':'UNITCD', 'MEASYEAR_x':'MEASYEAR'})\n",
    "\n",
    "new_data.to_csv('/Users/ellapalacios/Downloads/tree_proj/data/final_big_data.csv')\n"
   ]
  },
  {
   "cell_type": "code",
   "execution_count": 87,
   "metadata": {},
   "outputs": [],
   "source": [
    "trimmed_data = new_data[['PLOT', 'LAT', 'LON', 'ELEV', 'COUNTYCD', 'UNITCD', 'PLT_CN', 'CN', 'Unnamed: 0','UNIQUE_PLOT_ID', 'INVYR', 'MEASYEAR', 'MEASMON', 'MEASDAY',\n",
    "                         'CREATED_DATE', 'MODIFIED_DATE', 'TREE', 'SUBP','CONDID', 'PREVCOND', 'STATUSCD', 'SPCD', 'SPGRPCD', 'CULL', 'DIA', 'HT', 'DRYBIO_AG', \n",
    "                         'CR', 'CCLCD', 'DAMLOC1', 'DAMTYP1', 'DAMSEV1', 'DAMLOC2','DAMTYP2', 'DAMSEV2', 'DECAYCD', 'MORTYR', 'STANDING_DEAD_CD', 'DAMLOC1_PNWRS',\n",
    "                         'DAMLOC2_PNWRS', 'DMG_AGENT1_CD_PNWRS', 'DMG_AGENT2_CD_PNWRS', 'DMG_AGENT3_CD_PNWRS', 'SEVERITY1_CD_PNWRS', 'SEVERITY1A_CD_PNWRS', 'SEVERITY1B_CD_PNWRS',\n",
    "                         'SEVERITY2_CD_PNWRS', 'SEVERITY2A_CD_PNWRS', 'SEVERITY2B_CD_PNWRS', 'SEVERITY3_CD_PNWRS', 'DAMAGE_AGENT_CD1', 'DAMAGE_AGENT_CD2', 'DAMAGE_AGENT_CD3', \n",
    "                         'CULTURALLY_KILLED_PNWRS', 'INCIDENT1', 'FIREYEAR1', 'AREA1', 'PERIM1', 'INCIDENT2', 'FIREYEAR2', 'AREA2', 'PERIM2', 'INCIDENT3', 'FIREYEAR3', 'AREA3',\n",
    "                         'PERIM3']]\n",
    "#renaming that one poorly named column to a slightly less poor name\n",
    "trimmed_data = trimmed_data.rename(columns = {'Unnamed: 0':'MYSTERY_COL' })"
   ]
  },
  {
   "cell_type": "code",
   "execution_count": 88,
   "metadata": {},
   "outputs": [],
   "source": [
    "#exporting to CSV\n",
    "trimmed_data.to_csv('/Users/ellapalacios/Downloads/tree_proj/data/trimmed_data.csv')"
   ]
  },
  {
   "cell_type": "code",
   "execution_count": null,
   "metadata": {},
   "outputs": [],
   "source": []
  }
 ],
 "metadata": {
  "kernelspec": {
   "display_name": "base",
   "language": "python",
   "name": "python3"
  },
  "language_info": {
   "codemirror_mode": {
    "name": "ipython",
    "version": 3
   },
   "file_extension": ".py",
   "mimetype": "text/x-python",
   "name": "python",
   "nbconvert_exporter": "python",
   "pygments_lexer": "ipython3",
   "version": "3.11.9"
  }
 },
 "nbformat": 4,
 "nbformat_minor": 2
}
