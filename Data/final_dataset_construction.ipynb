{
 "cells": [
  {
   "cell_type": "markdown",
   "metadata": {},
   "source": [
    "## Dataset Construction \n",
    "This notebook runs the algoroithm for compiling our final dataset. I'll run the algo here as a sanity check and then save everything as a .py file for others to use and run. The construction algorithm is the same as used in 'dataset_construction.ipynb' which can be found in 'old_EDA' on the github. "
   ]
  },
  {
   "cell_type": "code",
   "execution_count": 19,
   "metadata": {},
   "outputs": [],
   "source": [
    "import numpy as np\n",
    "import pandas as pd\n",
    "from pandas.testing import assert_frame_equal #testing "
   ]
  },
  {
   "cell_type": "code",
   "execution_count": 20,
   "metadata": {},
   "outputs": [
    {
     "name": "stderr",
     "output_type": "stream",
     "text": [
      "/var/folders/mm/t_p68_6506v3jg0m1f58zkv40000gn/T/ipykernel_92265/3929466934.py:2: DtypeWarning: Columns (78,160,200,204,208) have mixed types. Specify dtype option on import or set low_memory=False.\n",
      "  trees4us = pd.read_csv('../Data/TREES_FOR_US.csv')\n"
     ]
    }
   ],
   "source": [
    "# trees = pd.read_csv('/Users/ellapalacios/Downloads/tree_proj/data/WA_TREE.csv') -- don't actually need this because all the needed tree info is already in trees4us\n",
    "trees4us = pd.read_csv('../Data/TREES_FOR_US.csv')\n",
    "plot = pd.read_csv('../Data/WA_PLOT.csv')"
   ]
  },
  {
   "cell_type": "code",
   "execution_count": 21,
   "metadata": {},
   "outputs": [
    {
     "data": {
      "text/html": [
       "<div>\n",
       "<style scoped>\n",
       "    .dataframe tbody tr th:only-of-type {\n",
       "        vertical-align: middle;\n",
       "    }\n",
       "\n",
       "    .dataframe tbody tr th {\n",
       "        vertical-align: top;\n",
       "    }\n",
       "\n",
       "    .dataframe thead th {\n",
       "        text-align: right;\n",
       "    }\n",
       "</style>\n",
       "<table border=\"1\" class=\"dataframe\">\n",
       "  <thead>\n",
       "    <tr style=\"text-align: right;\">\n",
       "      <th></th>\n",
       "      <th>Unnamed: 0</th>\n",
       "      <th>CN</th>\n",
       "      <th>PLT_CN</th>\n",
       "      <th>PREV_TRE_CN</th>\n",
       "      <th>INVYR</th>\n",
       "      <th>STATECD</th>\n",
       "      <th>UNITCD</th>\n",
       "      <th>COUNTYCD</th>\n",
       "      <th>PLOT</th>\n",
       "      <th>SUBP</th>\n",
       "      <th>...</th>\n",
       "      <th>AREA2</th>\n",
       "      <th>PERIM2</th>\n",
       "      <th>INCIDENT3</th>\n",
       "      <th>FIREYEAR3</th>\n",
       "      <th>AREA3</th>\n",
       "      <th>PERIM3</th>\n",
       "      <th>INCIDENT4</th>\n",
       "      <th>FIREYEAR4</th>\n",
       "      <th>AREA4</th>\n",
       "      <th>PERIM4</th>\n",
       "    </tr>\n",
       "  </thead>\n",
       "  <tbody>\n",
       "    <tr>\n",
       "      <th>16339</th>\n",
       "      <td>361349</td>\n",
       "      <td>450997873489998</td>\n",
       "      <td>345936015489998</td>\n",
       "      <td>8.615103e+12</td>\n",
       "      <td>2016</td>\n",
       "      <td>53</td>\n",
       "      <td>8</td>\n",
       "      <td>37</td>\n",
       "      <td>85504</td>\n",
       "      <td>3</td>\n",
       "      <td>...</td>\n",
       "      <td>NaN</td>\n",
       "      <td>NaN</td>\n",
       "      <td>NaN</td>\n",
       "      <td>NaN</td>\n",
       "      <td>NaN</td>\n",
       "      <td>NaN</td>\n",
       "      <td>NaN</td>\n",
       "      <td>NaN</td>\n",
       "      <td>NaN</td>\n",
       "      <td>NaN</td>\n",
       "    </tr>\n",
       "    <tr>\n",
       "      <th>12351</th>\n",
       "      <td>254842</td>\n",
       "      <td>177570326020004</td>\n",
       "      <td>30852512020004</td>\n",
       "      <td>2.242867e+13</td>\n",
       "      <td>2012</td>\n",
       "      <td>53</td>\n",
       "      <td>8</td>\n",
       "      <td>47</td>\n",
       "      <td>62827</td>\n",
       "      <td>2</td>\n",
       "      <td>...</td>\n",
       "      <td>7.090616e+08</td>\n",
       "      <td>492809.896132</td>\n",
       "      <td>NaN</td>\n",
       "      <td>NaN</td>\n",
       "      <td>NaN</td>\n",
       "      <td>NaN</td>\n",
       "      <td>NaN</td>\n",
       "      <td>NaN</td>\n",
       "      <td>NaN</td>\n",
       "      <td>NaN</td>\n",
       "    </tr>\n",
       "    <tr>\n",
       "      <th>17209</th>\n",
       "      <td>369019</td>\n",
       "      <td>451050673489998</td>\n",
       "      <td>345933511489998</td>\n",
       "      <td>8.629327e+12</td>\n",
       "      <td>2016</td>\n",
       "      <td>53</td>\n",
       "      <td>9</td>\n",
       "      <td>51</td>\n",
       "      <td>72167</td>\n",
       "      <td>4</td>\n",
       "      <td>...</td>\n",
       "      <td>NaN</td>\n",
       "      <td>NaN</td>\n",
       "      <td>NaN</td>\n",
       "      <td>NaN</td>\n",
       "      <td>NaN</td>\n",
       "      <td>NaN</td>\n",
       "      <td>NaN</td>\n",
       "      <td>NaN</td>\n",
       "      <td>NaN</td>\n",
       "      <td>NaN</td>\n",
       "    </tr>\n",
       "  </tbody>\n",
       "</table>\n",
       "<p>3 rows × 216 columns</p>\n",
       "</div>"
      ],
      "text/plain": [
       "       Unnamed: 0               CN           PLT_CN   PREV_TRE_CN  INVYR  \\\n",
       "16339      361349  450997873489998  345936015489998  8.615103e+12   2016   \n",
       "12351      254842  177570326020004   30852512020004  2.242867e+13   2012   \n",
       "17209      369019  451050673489998  345933511489998  8.629327e+12   2016   \n",
       "\n",
       "       STATECD  UNITCD  COUNTYCD   PLOT  SUBP  ...         AREA2  \\\n",
       "16339       53       8        37  85504     3  ...           NaN   \n",
       "12351       53       8        47  62827     2  ...  7.090616e+08   \n",
       "17209       53       9        51  72167     4  ...           NaN   \n",
       "\n",
       "              PERIM2  INCIDENT3  FIREYEAR3  AREA3  PERIM3  INCIDENT4  \\\n",
       "16339            NaN        NaN        NaN    NaN     NaN        NaN   \n",
       "12351  492809.896132        NaN        NaN    NaN     NaN        NaN   \n",
       "17209            NaN        NaN        NaN    NaN     NaN        NaN   \n",
       "\n",
       "       FIREYEAR4  AREA4  PERIM4  \n",
       "16339        NaN    NaN     NaN  \n",
       "12351        NaN    NaN     NaN  \n",
       "17209        NaN    NaN     NaN  \n",
       "\n",
       "[3 rows x 216 columns]"
      ]
     },
     "execution_count": 21,
     "metadata": {},
     "output_type": "execute_result"
    }
   ],
   "source": [
    "trees4us.sample(3)"
   ]
  },
  {
   "cell_type": "code",
   "execution_count": 22,
   "metadata": {},
   "outputs": [],
   "source": [
    "#dropping what we don't need and sorting\n",
    "plot = plot[['CN', 'PREV_PLT_CN', 'STATECD', 'UNITCD', 'COUNTYCD', 'PLOT', 'MEASYEAR', 'MEASMON', 'MEASDAY', 'WATERCD', 'LAT', 'LON', 'ELEV']]\n",
    "plot = plot.sort_values(by = 'CN')\n",
    "trees4us = trees4us.sort_values(by = 'PLT_CN')"
   ]
  },
  {
   "cell_type": "code",
   "execution_count": 23,
   "metadata": {},
   "outputs": [],
   "source": [
    "new_data = pd.merge(plot, trees4us, left_on='CN', right_on='PLT_CN')"
   ]
  },
  {
   "cell_type": "code",
   "execution_count": 24,
   "metadata": {},
   "outputs": [],
   "source": [
    "#running some sanity checks that everything aligned correctly \n",
    "sanity_check_data = new_data[['CN_x', 'PLT_CN', 'PLOT_x', 'PLOT_y', 'COUNTYCD_x', 'COUNTYCD_y' ]]\n",
    "\n",
    "from pandas.testing import assert_frame_equal\n",
    "\n",
    "frame1 = sanity_check_data[['CN_x',  'PLOT_x', 'COUNTYCD_x']]\n",
    "frame2 = sanity_check_data[[ 'PLT_CN',  'PLOT_y', 'COUNTYCD_y' ]]\n",
    "\n",
    "frame1 = frame1.rename(columns={'CN_x':'CN', 'PLOT_x': 'PLOT', 'COUNTYCD_x':'COUNTYCD'}) #two frames must be named identically for the assertion to actually check the data\n",
    "frame2 = frame2.rename(columns={'PLT_CN':'CN', 'PLOT_y': 'PLOT', 'COUNTYCD_y':'COUNTYCD'})\n",
    "\n",
    "assert_frame_equal(frame1, frame2, check_dtype= False )\n",
    "\n",
    "#since this returns nothing, everything should have lined up ok. Yeet"
   ]
  },
  {
   "cell_type": "code",
   "execution_count": 25,
   "metadata": {},
   "outputs": [],
   "source": [
    "#dropping duplicate columns & correctly renaming. Then saving the big one as a csv just in case. \n",
    "new_data = new_data.drop(columns= ['CN_x', 'PLOT_x', 'COUNTYCD_x', 'UNITCD_x', 'STATECD_x', 'STATECD_y', 'MEASYEAR_y']) #dropping duplicate features\n",
    "new_data = new_data.rename(columns= {'PLOT_y':'PLOT', 'COUNTYCD_y':'COUNTYCD', 'CN_y':'CN', 'UNITCD_y':'UNITCD', 'MEASYEAR_x':'MEASYEAR'})\n",
    "\n",
    "new_data.to_csv('../Data/final_big_data.csv')\n"
   ]
  },
  {
   "cell_type": "code",
   "execution_count": 26,
   "metadata": {},
   "outputs": [],
   "source": [
    "trimmed_data = new_data[['PLOT', 'LAT', 'LON', 'ELEV', 'COUNTYCD', 'UNITCD', 'PLT_CN', 'CN','PREV_TRE_CN','UNIQUE_PLOT_ID', 'INVYR', 'MEASYEAR', 'MEASMON', 'MEASDAY',\n",
    "                         'CREATED_DATE', 'MODIFIED_DATE', 'TREE', 'SUBP','CONDID', 'PREVCOND', 'STATUSCD', 'SPCD', 'SPGRPCD', 'CULL', 'DIA', 'HT', 'DRYBIO_AG', \n",
    "                         'CR', 'CCLCD', 'DAMLOC1', 'DAMTYP1', 'DAMSEV1', 'DAMLOC2','DAMTYP2', 'DAMSEV2', 'DECAYCD', 'MORTYR', 'STANDING_DEAD_CD', 'DAMLOC1_PNWRS',\n",
    "                         'DAMLOC2_PNWRS', 'DMG_AGENT1_CD_PNWRS', 'DMG_AGENT2_CD_PNWRS', 'DMG_AGENT3_CD_PNWRS', 'SEVERITY1_CD_PNWRS', 'SEVERITY1A_CD_PNWRS', 'SEVERITY1B_CD_PNWRS',\n",
    "                         'SEVERITY2_CD_PNWRS', 'SEVERITY2A_CD_PNWRS', 'SEVERITY2B_CD_PNWRS', 'SEVERITY3_CD_PNWRS', 'DAMAGE_AGENT_CD1', 'DAMAGE_AGENT_CD2', 'DAMAGE_AGENT_CD3', \n",
    "                         'CULTURALLY_KILLED_PNWRS', 'INCIDENT1', 'FIREYEAR1', 'AREA1', 'PERIM1', 'INCIDENT2', 'FIREYEAR2', 'AREA2', 'PERIM2', 'INCIDENT3', 'FIREYEAR3', 'AREA3',\n",
    "                         'PERIM3']]"
   ]
  },
  {
   "cell_type": "code",
   "execution_count": 27,
   "metadata": {},
   "outputs": [],
   "source": [
    "#exporting to CSV\n",
    "trimmed_data.to_csv('../Data/trimmed_data.csv')"
   ]
  }
 ],
 "metadata": {
  "kernelspec": {
   "display_name": "erdos_fall_2024",
   "language": "python",
   "name": "python3"
  },
  "language_info": {
   "codemirror_mode": {
    "name": "ipython",
    "version": 3
   },
   "file_extension": ".py",
   "mimetype": "text/x-python",
   "name": "python",
   "nbconvert_exporter": "python",
   "pygments_lexer": "ipython3",
   "version": "3.12.5"
  }
 },
 "nbformat": 4,
 "nbformat_minor": 2
}
